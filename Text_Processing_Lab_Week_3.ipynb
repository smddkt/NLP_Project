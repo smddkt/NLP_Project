{
  "nbformat": 4,
  "nbformat_minor": 0,
  "metadata": {
    "colab": {
      "provenance": [],
      "authorship_tag": "ABX9TyNSAdsmzogRcTyYL9WN3n6o",
      "include_colab_link": true
    },
    "kernelspec": {
      "name": "python3",
      "display_name": "Python 3"
    },
    "language_info": {
      "name": "python"
    }
  },
  "cells": [
    {
      "cell_type": "markdown",
      "metadata": {
        "id": "view-in-github",
        "colab_type": "text"
      },
      "source": [
        "<a href=\"https://colab.research.google.com/github/smddkt/NLP_Project/blob/main/Text_Processing_Lab_Week_3.ipynb\" target=\"_parent\"><img src=\"https://colab.research.google.com/assets/colab-badge.svg\" alt=\"Open In Colab\"/></a>"
      ]
    },
    {
      "cell_type": "markdown",
      "source": [
        "## N-gram"
      ],
      "metadata": {
        "id": "6DSsnNwmQUOv"
      }
    },
    {
      "cell_type": "code",
      "execution_count": 2,
      "metadata": {
        "colab": {
          "base_uri": "https://localhost:8080/"
        },
        "id": "EFRNz0aFQQ0D",
        "outputId": "7a575591-f920-443d-ae82-c038b93a59f8"
      },
      "outputs": [
        {
          "output_type": "stream",
          "name": "stdout",
          "text": [
            "['one', 'two', 'three', 'four', 'five']\n"
          ]
        }
      ],
      "source": [
        "#sample sentence\n",
        "\n",
        "s = \"one two three four five\"\n",
        "\n",
        "tokens = s.split(\" \")\n",
        "print(tokens)"
      ]
    },
    {
      "cell_type": "code",
      "source": [
        "sequences = [tokens[i:] for i in range(2)]\n",
        "# i = 1일 때, i = 2일 때. i부터 끝까지 토큰을 출력하는 시퀀스"
      ],
      "metadata": {
        "id": "qLEPPALyQnyb"
      },
      "execution_count": 3,
      "outputs": []
    },
    {
      "cell_type": "code",
      "source": [
        "sequences"
      ],
      "metadata": {
        "colab": {
          "base_uri": "https://localhost:8080/"
        },
        "id": "mZKAXnZVQ2GQ",
        "outputId": "a30e344c-3ca3-43bd-8899-2441d6ef2965"
      },
      "execution_count": 4,
      "outputs": [
        {
          "output_type": "execute_result",
          "data": {
            "text/plain": [
              "[['one', 'two', 'three', 'four', 'five'], ['two', 'three', 'four', 'five']]"
            ]
          },
          "metadata": {},
          "execution_count": 4
        }
      ]
    },
    {
      "cell_type": "code",
      "source": [
        "bigrams = zip(*sequences)\n",
        "\n",
        "#zip function: 여러 개의 시퀀스(예: 리스트, 튜플 등)를 인자로 받아 각 시퀀스에서 하나의 요소를 차례대로 가져와서 튜플로 묶어주는 역할"
      ],
      "metadata": {
        "id": "568aM-ygQ3am"
      },
      "execution_count": 5,
      "outputs": []
    },
    {
      "cell_type": "code",
      "source": [
        "print(list(bigrams))\n",
        "#list(zip(*sequences))는 sequences 리스트에 있는 각 시퀀스에서 동일한 인덱스에 있는 요소들을 묶어서 튜플로 만든 후, 그 결과를 리스트로 변환한다."
      ],
      "metadata": {
        "colab": {
          "base_uri": "https://localhost:8080/"
        },
        "id": "6F1hxnXARo8H",
        "outputId": "9b11979a-a40c-428a-a77d-ea0bd4174443"
      },
      "execution_count": 6,
      "outputs": [
        {
          "output_type": "stream",
          "name": "stdout",
          "text": [
            "[('one', 'two'), ('two', 'three'), ('three', 'four'), ('four', 'five')]\n"
          ]
        }
      ]
    },
    {
      "cell_type": "markdown",
      "source": [
        "**trigram**"
      ],
      "metadata": {
        "id": "f5b6a_qtTiZR"
      }
    },
    {
      "cell_type": "code",
      "source": [
        "sequences = [tokens[i:] for i in range(3)]\n",
        "sequences"
      ],
      "metadata": {
        "colab": {
          "base_uri": "https://localhost:8080/"
        },
        "id": "jQTS8z0iRs6K",
        "outputId": "700ab4e1-1aea-44fc-bc1d-6227621ed77e"
      },
      "execution_count": 7,
      "outputs": [
        {
          "output_type": "execute_result",
          "data": {
            "text/plain": [
              "[['one', 'two', 'three', 'four', 'five'],\n",
              " ['two', 'three', 'four', 'five'],\n",
              " ['three', 'four', 'five']]"
            ]
          },
          "metadata": {},
          "execution_count": 7
        }
      ]
    },
    {
      "cell_type": "code",
      "source": [
        "trigrams = zip(*sequences)\n",
        "print(list(trigrams))\n",
        "#  zip 함수는 자동으로 n-gram 생성을 종료할 수 있음. 세 번째만에 멈췄는데,  마지막 시퀀스의 원소가 세 개밖에 없기 때문이다."
      ],
      "metadata": {
        "colab": {
          "base_uri": "https://localhost:8080/"
        },
        "id": "NZy4SNmlTtuo",
        "outputId": "d15cbc8c-b586-4be2-ef30-5c55ce0e1f83"
      },
      "execution_count": 8,
      "outputs": [
        {
          "output_type": "stream",
          "name": "stdout",
          "text": [
            "[('one', 'two', 'three'), ('two', 'three', 'four'), ('three', 'four', 'five')]\n"
          ]
        }
      ]
    },
    {
      "cell_type": "markdown",
      "source": [
        "## n-grams를 생성하는 함수 만들기\n",
        "\n",
        "\n",
        "(위의 sample_input 이용)"
      ],
      "metadata": {
        "id": "eU1ZZBNYUp3i"
      }
    },
    {
      "cell_type": "code",
      "source": [
        "import re\n",
        "\n",
        "def generate_ngrams(s, n):\n",
        "  global sample_input\n",
        "  #convert to lowercases\n",
        "  sample_input = sample_input.lower()\n",
        "  #replace all none alphanumeric characters with spaces\n",
        "  sample_input = re.sub(r'[^a-zA-Z0-9]', ' ', sample_input)\n",
        "\n",
        "  #break sentence in the token, remove empty tokens\n",
        "  tokens = [token for token in s.split(\" \") if token != \"\"]\n",
        "\n",
        "  #use the zip function to help us generate n-grams\n",
        "  #Concentrate the tokens into ngrams and return\n",
        "  ngrams = zip(*[tokens[i:] for i in range(n)])\n",
        "\n",
        "  return [\" \".join(ngram) for ngram in ngrams]"
      ],
      "metadata": {
        "id": "hVazv8CoUyGi"
      },
      "execution_count": 9,
      "outputs": []
    },
    {
      "cell_type": "markdown",
      "source": [
        "### sample_input = re.sub(r'[^a-zA-Z0-9]', ' ', sample_input)\n",
        "\n",
        "\n",
        "여기서 사용된 re.sub() 함수는 문자열에서 특정 패턴을 다른 문자열로 대체하는 역할을 합니다.\n",
        "\n",
        "이 함수의 인자는 다음과 같습니다:\n",
        "\n",
        "r'[^a-zA-Z0-9]': 정규 표현식 패턴입니다. 이 패턴은 문자열에서 알파벳 (대문자 및 소문자)과 숫자를 제외한 모든 문자를 찾습니다. 여기서 ^는 부정을 나타내므로, 대괄호 안에 있는 문자들을 제외한 모든 문자를 의미합니다.\n",
        "' ': 대체할 문자열입니다. 여기서는 정규 표현식 패턴과 매칭되는 문자열을 공백 문자로 대체합니다.\n",
        "sample_input: 대상 문자열입니다. 정규 표현식 패턴에 따라 대체할 대상이 됩니다.\n",
        "따라서 이 코드는 sample_input 문자열에서 알파벳 (대문자 및 소문자)과 숫자를 제외한 모든 문자를 공백으로 대체하여 반환합니다."
      ],
      "metadata": {
        "id": "QYYoLF7CVoFH"
      }
    },
    {
      "cell_type": "code",
      "source": [
        "sample_input = \"\"\"Natural-language processing (NLP) is an area of\n",
        "computer science and artificial intelligence\n",
        "concerned with the interactions between computers\n",
        "and human (natural) languages.\"\"\""
      ],
      "metadata": {
        "id": "M91tZM2zT0Aj"
      },
      "execution_count": 10,
      "outputs": []
    },
    {
      "cell_type": "code",
      "source": [
        "generate_ngrams(sample_input, n=5)"
      ],
      "metadata": {
        "colab": {
          "base_uri": "https://localhost:8080/"
        },
        "id": "sSzZwoIYWfPU",
        "outputId": "e02e9a0c-48de-425a-f315-334379cb21e1"
      },
      "execution_count": 11,
      "outputs": [
        {
          "output_type": "execute_result",
          "data": {
            "text/plain": [
              "['Natural-language processing (NLP) is an',\n",
              " 'processing (NLP) is an area',\n",
              " '(NLP) is an area of\\ncomputer',\n",
              " 'is an area of\\ncomputer science',\n",
              " 'an area of\\ncomputer science and',\n",
              " 'area of\\ncomputer science and artificial',\n",
              " 'of\\ncomputer science and artificial intelligence\\nconcerned',\n",
              " 'science and artificial intelligence\\nconcerned with',\n",
              " 'and artificial intelligence\\nconcerned with the',\n",
              " 'artificial intelligence\\nconcerned with the interactions',\n",
              " 'intelligence\\nconcerned with the interactions between',\n",
              " 'with the interactions between computers\\nand',\n",
              " 'the interactions between computers\\nand human',\n",
              " 'interactions between computers\\nand human (natural)',\n",
              " 'between computers\\nand human (natural) languages.']"
            ]
          },
          "metadata": {},
          "execution_count": 11
        }
      ]
    },
    {
      "cell_type": "markdown",
      "source": [
        "## N-gram language models using NLTK"
      ],
      "metadata": {
        "id": "DXF94LfHXVka"
      }
    },
    {
      "cell_type": "code",
      "source": [
        "#텍스트는 문장으로, 문장은, 문자열의 리스트로 이루어져 있다. 만약 텍스트 자체를 단순히 문자들의 집합으로 본다면?\n",
        "\n",
        "text = [['a', 'b', 'c'], ['a', 'c', 'd', 'c', 'e', 'f']]"
      ],
      "metadata": {
        "id": "S3JO0JPnWjzM"
      },
      "execution_count": 12,
      "outputs": []
    },
    {
      "cell_type": "code",
      "source": [
        "#이 텍스트를 bigram 모델로 만들기. NLTK의 함수를 이용하자.\n",
        "\n",
        "from nltk.util import bigrams\n",
        "\n",
        "list(bigrams(text[0]))"
      ],
      "metadata": {
        "colab": {
          "base_uri": "https://localhost:8080/"
        },
        "id": "fE6uGVu4X77u",
        "outputId": "5f7da936-a545-42dd-ebba-50a18acd590e"
      },
      "execution_count": 13,
      "outputs": [
        {
          "output_type": "execute_result",
          "data": {
            "text/plain": [
              "[('a', 'b'), ('b', 'c')]"
            ]
          },
          "metadata": {},
          "execution_count": 13
        }
      ]
    },
    {
      "cell_type": "markdown",
      "source": [
        "**padding 추가하기**\n",
        "\n",
        "위에서 만든 bigram 모델의 경우, 문장의 시작과 끝인 a와 c는 의미상 중요할 가능성이 큰데, 다른 단어들과의 연결은 상대적으로 적다. b는 두 번 나올 동안 a, c는 한 번 씩만 나옴.\n",
        "\n",
        "Padding은 문장의 시작과 끝을 나타내는 특별한 기호를 추가하여 이러한 문제를 해결하는 방법이다. 이렇게 함으로써 문장의 시작과 끝에 있는 단어들도 주변 단어들과의 관계를 가지게 된다.\n",
        "\n",
        "\n",
        "--->문맥 이해가 더 용이해진다."
      ],
      "metadata": {
        "id": "hDprmNuaYXia"
      }
    },
    {
      "cell_type": "code",
      "source": [
        "from nltk.util import pad_sequence\n",
        "list(pad_sequence(text[0],\n",
        "                  pad_left = True,\n",
        "                  left_pad_symbol = \"<s>\",\n",
        "                  pad_right = True,\n",
        "                  right_pad_symbol=\"</s>\",\n",
        "                  n=2))"
      ],
      "metadata": {
        "colab": {
          "base_uri": "https://localhost:8080/"
        },
        "id": "H9TXKvT6YOB-",
        "outputId": "0fbc506f-bceb-4698-a75b-e35cb0433726"
      },
      "execution_count": 14,
      "outputs": [
        {
          "output_type": "execute_result",
          "data": {
            "text/plain": [
              "['<s>', 'a', 'b', 'c', '</s>']"
            ]
          },
          "metadata": {},
          "execution_count": 14
        }
      ]
    },
    {
      "cell_type": "code",
      "source": [
        "list(pad_sequence(text[0],\n",
        "                  pad_left = True,\n",
        "                  left_pad_symbol= \"<s>\",\n",
        "                  pad_right=True,\n",
        "                  right_pad_symbol=\"</s>\",\n",
        "                  n=3))"
      ],
      "metadata": {
        "id": "X25uIfSRYzqd",
        "colab": {
          "base_uri": "https://localhost:8080/"
        },
        "outputId": "a8993a33-6d9c-46af-82da-4fda2b50f0e4"
      },
      "execution_count": 15,
      "outputs": [
        {
          "output_type": "execute_result",
          "data": {
            "text/plain": [
              "['<s>', '<s>', 'a', 'b', 'c', '</s>', '</s>']"
            ]
          },
          "metadata": {},
          "execution_count": 15
        }
      ]
    },
    {
      "cell_type": "markdown",
      "source": [
        "pad_sequence 사용하면 자동으로 패딩 개수 맞춰짐. bigram이면 한 개의 패딩, trigram이면 두 개의 패딩...\n",
        "\n",
        "근데 이 모든 변수를 매번 쓰기도 귀찮다. 거의 모든 경우에 이 변수들은 그냥 기본값으로 맞춰놓고 쓰기 때문에. 그래서 이제부터는 pad_sequence와 같은 변수들을 기본값으로 세팅해 놓은 함수인\n",
        "\n",
        "\n",
        "pad_both_ends를 쓰면 된다."
      ],
      "metadata": {
        "id": "d360Tra7zRIV"
      }
    },
    {
      "cell_type": "code",
      "source": [
        "from nltk.lm.preprocessing import pad_both_ends\n",
        "list(pad_both_ends(text[0], n=2))"
      ],
      "metadata": {
        "colab": {
          "base_uri": "https://localhost:8080/"
        },
        "id": "QKEptcJBzCtU",
        "outputId": "d7fca9b5-4559-4493-90f4-c1da61efb245"
      },
      "execution_count": 16,
      "outputs": [
        {
          "output_type": "execute_result",
          "data": {
            "text/plain": [
              "['<s>', 'a', 'b', 'c', '</s>']"
            ]
          },
          "metadata": {},
          "execution_count": 16
        }
      ]
    },
    {
      "cell_type": "code",
      "source": [
        "#지금까지 한 것 합치기\n",
        "\n",
        "list(bigrams(pad_both_ends(text[0], n=2)))"
      ],
      "metadata": {
        "colab": {
          "base_uri": "https://localhost:8080/"
        },
        "id": "zdl7ExnC0ED_",
        "outputId": "5d7cd929-9a83-4c95-da01-38cc6f1ed4e8"
      },
      "execution_count": 17,
      "outputs": [
        {
          "output_type": "execute_result",
          "data": {
            "text/plain": [
              "[('<s>', 'a'), ('a', 'b'), ('b', 'c'), ('c', '</s>')]"
            ]
          },
          "metadata": {},
          "execution_count": 17
        }
      ]
    },
    {
      "cell_type": "code",
      "source": [
        "#\"everygrams\" 함수는 텍스트에서 가능한 모든 n-grams를 생성하는 데에 사용되며, 이해하기 쉬운 방식으로 구현되어 있지만, 대규모 데이터나 긴 텍스트에 적용할 때에는 처리 속도가 느릴 수 있다.\n",
        "\n",
        "from nltk.util import everygrams\n",
        "padded_bigrams = list(pad_both_ends(text[0], n=2))\n",
        "list(everygrams(padded_bigrams, max_len=2))"
      ],
      "metadata": {
        "colab": {
          "base_uri": "https://localhost:8080/"
        },
        "id": "BwqrcYZe0Sc4",
        "outputId": "5fd935b3-517e-45af-e389-15fea30e1722"
      },
      "execution_count": 18,
      "outputs": [
        {
          "output_type": "execute_result",
          "data": {
            "text/plain": [
              "[('<s>',),\n",
              " ('<s>', 'a'),\n",
              " ('a',),\n",
              " ('a', 'b'),\n",
              " ('b',),\n",
              " ('b', 'c'),\n",
              " ('c',),\n",
              " ('c', '</s>'),\n",
              " ('</s>',)]"
            ]
          },
          "metadata": {},
          "execution_count": 18
        }
      ]
    },
    {
      "cell_type": "code",
      "source": [
        "padded_trigrams = list(pad_both_ends(text[0], n=3))\n",
        "list(everygrams(padded_trigrams, max_len=3))"
      ],
      "metadata": {
        "colab": {
          "base_uri": "https://localhost:8080/"
        },
        "id": "pTNxw5uX15bM",
        "outputId": "4e6608d1-c0c4-4fa0-a79d-f06bad3c0d64"
      },
      "execution_count": 19,
      "outputs": [
        {
          "output_type": "execute_result",
          "data": {
            "text/plain": [
              "[('<s>',),\n",
              " ('<s>', '<s>'),\n",
              " ('<s>', '<s>', 'a'),\n",
              " ('<s>',),\n",
              " ('<s>', 'a'),\n",
              " ('<s>', 'a', 'b'),\n",
              " ('a',),\n",
              " ('a', 'b'),\n",
              " ('a', 'b', 'c'),\n",
              " ('b',),\n",
              " ('b', 'c'),\n",
              " ('b', 'c', '</s>'),\n",
              " ('c',),\n",
              " ('c', '</s>'),\n",
              " ('c', '</s>', '</s>'),\n",
              " ('</s>',),\n",
              " ('</s>', '</s>'),\n",
              " ('</s>',)]"
            ]
          },
          "metadata": {},
          "execution_count": 19
        }
      ]
    },
    {
      "cell_type": "code",
      "source": [
        "from nltk.lm.preprocessing import flatten\n",
        "list(flatten(pad_both_ends(sent, n=2) for sent in text))"
      ],
      "metadata": {
        "colab": {
          "base_uri": "https://localhost:8080/"
        },
        "id": "opXG3GVA2OKA",
        "outputId": "f1de87b2-f0d6-4b69-f009-472f4bc14bad"
      },
      "execution_count": 20,
      "outputs": [
        {
          "output_type": "execute_result",
          "data": {
            "text/plain": [
              "['<s>', 'a', 'b', 'c', '</s>', '<s>', 'a', 'c', 'd', 'c', 'e', 'f', '</s>']"
            ]
          },
          "metadata": {},
          "execution_count": 20
        }
      ]
    },
    {
      "cell_type": "code",
      "source": [
        "#위의 결과를 flat stream으로 만들기\n",
        "\n",
        "from nltk.lm.preprocessing import flatten\n",
        "list(flatten(pad_both_ends(sent, n=2) for sent in text))"
      ],
      "metadata": {
        "id": "Xspqzp8n3Kec",
        "colab": {
          "base_uri": "https://localhost:8080/"
        },
        "outputId": "27595de2-df0f-400b-82eb-9a68880dbafd"
      },
      "execution_count": 21,
      "outputs": [
        {
          "output_type": "execute_result",
          "data": {
            "text/plain": [
              "['<s>', 'a', 'b', 'c', '</s>', '<s>', 'a', 'c', 'd', 'c', 'e', 'f', '</s>']"
            ]
          },
          "metadata": {},
          "execution_count": 21
        }
      ]
    },
    {
      "cell_type": "code",
      "source": [
        "#in most cases we want to use the same text as the source for both vocabulary/n-gram counts.\n",
        "# padded_everygram_pipeline 이라는 함수로 실현할 수 있다.\n",
        "\n",
        "from nltk.lm.preprocessing import padded_everygram_pipeline\n",
        "train, vocab = padded_everygram_pipeline(2, text)"
      ],
      "metadata": {
        "id": "PgQpuUatkTRT"
      },
      "execution_count": 22,
      "outputs": []
    },
    {
      "cell_type": "code",
      "source": [
        "training_ngrams, padded_sentences = padded_everygram_pipeline(2, text)\n",
        "for ngramlize_sent in training_ngrams:\n",
        "  print(list(ngramlize_sent))\n",
        "\n",
        "print(list(padded_sentences))"
      ],
      "metadata": {
        "colab": {
          "base_uri": "https://localhost:8080/"
        },
        "id": "JciktxPQloV0",
        "outputId": "179731d8-542e-4e76-b452-084268684dc2"
      },
      "execution_count": 23,
      "outputs": [
        {
          "output_type": "stream",
          "name": "stdout",
          "text": [
            "[('<s>',), ('<s>', 'a'), ('a',), ('a', 'b'), ('b',), ('b', 'c'), ('c',), ('c', '</s>'), ('</s>',)]\n",
            "[('<s>',), ('<s>', 'a'), ('a',), ('a', 'c'), ('c',), ('c', 'd'), ('d',), ('d', 'c'), ('c',), ('c', 'e'), ('e',), ('e', 'f'), ('f',), ('f', '</s>'), ('</s>',)]\n",
            "['<s>', 'a', 'b', 'c', '</s>', '<s>', 'a', 'c', 'd', 'c', 'e', 'f', '</s>']\n"
          ]
        }
      ]
    },
    {
      "cell_type": "markdown",
      "source": [
        "## **Training**"
      ],
      "metadata": {
        "id": "RV0zRw0Cm-Oo"
      }
    },
    {
      "cell_type": "code",
      "source": [
        "from nltk.lm import MLE\n",
        "lm = MLE(2)\n",
        "\n",
        "#MLE = Maximum Likelihood Estimater."
      ],
      "metadata": {
        "id": "56qtb_0RmAxc"
      },
      "execution_count": 24,
      "outputs": []
    },
    {
      "cell_type": "code",
      "source": [
        "len(lm.vocab)\n",
        "#2가 나온다."
      ],
      "metadata": {
        "id": "87OB8hYTnLRW"
      },
      "execution_count": null,
      "outputs": []
    },
    {
      "cell_type": "code",
      "source": [
        "lm.fit(train, vocab)\n",
        "print(lm.vocab)\n"
      ],
      "metadata": {
        "colab": {
          "base_uri": "https://localhost:8080/"
        },
        "id": "_JialPuinf-6",
        "outputId": "0333e2f4-2149-4ce5-adf1-85890745b9c9"
      },
      "execution_count": 25,
      "outputs": [
        {
          "output_type": "stream",
          "name": "stdout",
          "text": [
            "<Vocabulary with cutoff=1 unk_label='<UNK>' and 9 items>\n"
          ]
        }
      ]
    },
    {
      "cell_type": "code",
      "source": [
        "len(lm.vocab)\n",
        "#이제 9가 나온다."
      ],
      "metadata": {
        "colab": {
          "base_uri": "https://localhost:8080/"
        },
        "id": "K1QoFyRonmjr",
        "outputId": "84f35908-3c13-4772-dae4-01f9146e3e33"
      },
      "execution_count": 26,
      "outputs": [
        {
          "output_type": "execute_result",
          "data": {
            "text/plain": [
              "9"
            ]
          },
          "metadata": {},
          "execution_count": 26
        }
      ]
    },
    {
      "cell_type": "code",
      "source": [
        "list(lm.vocab)"
      ],
      "metadata": {
        "colab": {
          "base_uri": "https://localhost:8080/"
        },
        "id": "yZ8xmu2Cnpt4",
        "outputId": "3fa18086-69e9-4b05-d454-1aab6c37fc58"
      },
      "execution_count": 27,
      "outputs": [
        {
          "output_type": "execute_result",
          "data": {
            "text/plain": [
              "['<s>', 'a', 'b', 'c', '</s>', 'd', 'e', 'f', '<UNK>']"
            ]
          },
          "metadata": {},
          "execution_count": 27
        }
      ]
    },
    {
      "cell_type": "code",
      "source": [],
      "metadata": {
        "id": "550_RjCsnuMT"
      },
      "execution_count": null,
      "outputs": []
    },
    {
      "cell_type": "markdown",
      "source": [
        "## **trained model 사용하기**"
      ],
      "metadata": {
        "id": "3Jx8aF5Wn5Vf"
      }
    },
    {
      "cell_type": "code",
      "source": [
        "print(lm.counts)"
      ],
      "metadata": {
        "colab": {
          "base_uri": "https://localhost:8080/"
        },
        "id": "L3iSalXRoHOX",
        "outputId": "a0ecd141-71ad-466f-9ef3-94bdf7f21811"
      },
      "execution_count": 28,
      "outputs": [
        {
          "output_type": "stream",
          "name": "stdout",
          "text": [
            "<NgramCounter with 2 ngram orders and 24 ngrams>\n"
          ]
        }
      ]
    },
    {
      "cell_type": "code",
      "source": [
        "lm.counts['a']"
      ],
      "metadata": {
        "colab": {
          "base_uri": "https://localhost:8080/"
        },
        "id": "L6O8bQsUoJf0",
        "outputId": "9efc37a5-202d-4ddb-83bc-5f84720fabaa"
      },
      "execution_count": 29,
      "outputs": [
        {
          "output_type": "execute_result",
          "data": {
            "text/plain": [
              "2"
            ]
          },
          "metadata": {},
          "execution_count": 29
        }
      ]
    },
    {
      "cell_type": "code",
      "source": [
        "lm.counts[['a']]"
      ],
      "metadata": {
        "colab": {
          "base_uri": "https://localhost:8080/"
        },
        "id": "idP0TuknoMCF",
        "outputId": "1b6ea37a-2493-4cd6-fcd4-6e6f9a2133a4"
      },
      "execution_count": 30,
      "outputs": [
        {
          "output_type": "execute_result",
          "data": {
            "text/plain": [
              "FreqDist({'b': 1, 'c': 1})"
            ]
          },
          "metadata": {},
          "execution_count": 30
        }
      ]
    },
    {
      "cell_type": "code",
      "source": [
        "lm.counts[['a']]['b']"
      ],
      "metadata": {
        "colab": {
          "base_uri": "https://localhost:8080/"
        },
        "id": "3jtoraFXoOll",
        "outputId": "26493292-7341-4a4d-b004-edaae02a8ba7"
      },
      "execution_count": 31,
      "outputs": [
        {
          "output_type": "execute_result",
          "data": {
            "text/plain": [
              "1"
            ]
          },
          "metadata": {},
          "execution_count": 31
        }
      ]
    },
    {
      "cell_type": "code",
      "source": [
        "lm.score('a')"
      ],
      "metadata": {
        "colab": {
          "base_uri": "https://localhost:8080/"
        },
        "id": "PeUpRVnYoSWN",
        "outputId": "38e0e066-2876-4391-cb74-7b8d8fe05d3a"
      },
      "execution_count": 32,
      "outputs": [
        {
          "output_type": "execute_result",
          "data": {
            "text/plain": [
              "0.15384615384615385"
            ]
          },
          "metadata": {},
          "execution_count": 32
        }
      ]
    },
    {
      "cell_type": "code",
      "source": [
        "lm.score('b', ['a'])"
      ],
      "metadata": {
        "colab": {
          "base_uri": "https://localhost:8080/"
        },
        "id": "MzvqvH0lo1YY",
        "outputId": "394fbb3a-2143-41c6-87f0-0479fb977224"
      },
      "execution_count": 33,
      "outputs": [
        {
          "output_type": "execute_result",
          "data": {
            "text/plain": [
              "0.5"
            ]
          },
          "metadata": {},
          "execution_count": 33
        }
      ]
    },
    {
      "cell_type": "code",
      "source": [
        "lm.logscore(\"a\")"
      ],
      "metadata": {
        "colab": {
          "base_uri": "https://localhost:8080/"
        },
        "id": "b_ZfZDd6o5hF",
        "outputId": "ec3cc7e3-7489-4439-a5f5-41dde352629f"
      },
      "execution_count": 34,
      "outputs": [
        {
          "output_type": "execute_result",
          "data": {
            "text/plain": [
              "-2.700439718141092"
            ]
          },
          "metadata": {},
          "execution_count": 34
        }
      ]
    },
    {
      "cell_type": "code",
      "source": [
        "test = [('a', 'b'), ('c', 'd')]\n",
        "lm.entropy(test)"
      ],
      "metadata": {
        "colab": {
          "base_uri": "https://localhost:8080/"
        },
        "id": "46KdZ9FBpjXH",
        "outputId": "c1ba2e3e-741c-42ca-c748-727ce17a6080"
      },
      "execution_count": 35,
      "outputs": [
        {
          "output_type": "execute_result",
          "data": {
            "text/plain": [
              "1.292481250360578"
            ]
          },
          "metadata": {},
          "execution_count": 35
        }
      ]
    },
    {
      "cell_type": "code",
      "source": [
        "lm.perplexity(test)"
      ],
      "metadata": {
        "colab": {
          "base_uri": "https://localhost:8080/"
        },
        "id": "p-RvKz7Rps_j",
        "outputId": "c40fa496-5f30-47fb-c31e-827a24105ab3"
      },
      "execution_count": 36,
      "outputs": [
        {
          "output_type": "execute_result",
          "data": {
            "text/plain": [
              "2.449489742783178"
            ]
          },
          "metadata": {},
          "execution_count": 36
        }
      ]
    },
    {
      "cell_type": "code",
      "source": [
        "lm.generate(1, random_seed=3)"
      ],
      "metadata": {
        "colab": {
          "base_uri": "https://localhost:8080/",
          "height": 35
        },
        "id": "fl8_xdazqAhW",
        "outputId": "6db6aeff-b6dd-4965-fef1-3d937fc5e55d"
      },
      "execution_count": 37,
      "outputs": [
        {
          "output_type": "execute_result",
          "data": {
            "text/plain": [
              "'<s>'"
            ],
            "application/vnd.google.colaboratory.intrinsic+json": {
              "type": "string"
            }
          },
          "metadata": {},
          "execution_count": 37
        }
      ]
    },
    {
      "cell_type": "code",
      "source": [
        "lm.generate(5, random_seed=3)"
      ],
      "metadata": {
        "colab": {
          "base_uri": "https://localhost:8080/"
        },
        "id": "rIUcnp-tqIEh",
        "outputId": "2300d23d-ff72-4c38-9df3-920e73d64a5e"
      },
      "execution_count": 38,
      "outputs": [
        {
          "output_type": "execute_result",
          "data": {
            "text/plain": [
              "['<s>', 'a', 'b', 'c', 'd']"
            ]
          },
          "metadata": {},
          "execution_count": 38
        }
      ]
    },
    {
      "cell_type": "code",
      "source": [
        "#text seed로 조건 주기\n",
        "\n",
        "lm.generate(5, text_seed = ['c'], random_seed=3)"
      ],
      "metadata": {
        "colab": {
          "base_uri": "https://localhost:8080/"
        },
        "id": "nku04dsBqMmE",
        "outputId": "21ad1650-b48e-4d20-d8d5-51fe23002030"
      },
      "execution_count": 39,
      "outputs": [
        {
          "output_type": "execute_result",
          "data": {
            "text/plain": [
              "['</s>', 'c', 'd', 'c', 'd']"
            ]
          },
          "metadata": {},
          "execution_count": 39
        }
      ]
    }
  ]
}