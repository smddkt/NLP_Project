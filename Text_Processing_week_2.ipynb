{
  "nbformat": 4,
  "nbformat_minor": 0,
  "metadata": {
    "colab": {
      "provenance": [],
      "authorship_tag": "ABX9TyPeK19KbrzCXG/MWCYEQSCs",
      "include_colab_link": true
    },
    "kernelspec": {
      "name": "python3",
      "display_name": "Python 3"
    },
    "language_info": {
      "name": "python"
    }
  },
  "cells": [
    {
      "cell_type": "markdown",
      "metadata": {
        "id": "view-in-github",
        "colab_type": "text"
      },
      "source": [
        "<a href=\"https://colab.research.google.com/github/smddkt/NLP-Study/blob/main/Text_Processing_week_2.ipynb\" target=\"_parent\"><img src=\"https://colab.research.google.com/assets/colab-badge.svg\" alt=\"Open In Colab\"/></a>"
      ]
    },
    {
      "cell_type": "code",
      "execution_count": null,
      "metadata": {
        "id": "afiHOjyAYaVM"
      },
      "outputs": [],
      "source": [
        "import nltk"
      ]
    },
    {
      "cell_type": "code",
      "source": [
        "nltk.download('book')"
      ],
      "metadata": {
        "colab": {
          "base_uri": "https://localhost:8080/"
        },
        "id": "2J1tbXH6Yqhm",
        "outputId": "26657087-0eb7-4b45-938e-22c84638a786"
      },
      "execution_count": null,
      "outputs": [
        {
          "output_type": "stream",
          "name": "stderr",
          "text": [
            "[nltk_data] Downloading collection 'book'\n",
            "[nltk_data]    | \n",
            "[nltk_data]    | Downloading package abc to /root/nltk_data...\n",
            "[nltk_data]    |   Unzipping corpora/abc.zip.\n",
            "[nltk_data]    | Downloading package brown to /root/nltk_data...\n",
            "[nltk_data]    |   Unzipping corpora/brown.zip.\n",
            "[nltk_data]    | Downloading package chat80 to /root/nltk_data...\n",
            "[nltk_data]    |   Unzipping corpora/chat80.zip.\n",
            "[nltk_data]    | Downloading package cmudict to /root/nltk_data...\n",
            "[nltk_data]    |   Unzipping corpora/cmudict.zip.\n",
            "[nltk_data]    | Downloading package conll2000 to /root/nltk_data...\n",
            "[nltk_data]    |   Unzipping corpora/conll2000.zip.\n",
            "[nltk_data]    | Downloading package conll2002 to /root/nltk_data...\n",
            "[nltk_data]    |   Unzipping corpora/conll2002.zip.\n",
            "[nltk_data]    | Downloading package dependency_treebank to\n",
            "[nltk_data]    |     /root/nltk_data...\n",
            "[nltk_data]    |   Unzipping corpora/dependency_treebank.zip.\n",
            "[nltk_data]    | Downloading package genesis to /root/nltk_data...\n",
            "[nltk_data]    |   Unzipping corpora/genesis.zip.\n",
            "[nltk_data]    | Downloading package gutenberg to /root/nltk_data...\n",
            "[nltk_data]    |   Package gutenberg is already up-to-date!\n",
            "[nltk_data]    | Downloading package ieer to /root/nltk_data...\n",
            "[nltk_data]    |   Unzipping corpora/ieer.zip.\n",
            "[nltk_data]    | Downloading package inaugural to /root/nltk_data...\n",
            "[nltk_data]    |   Unzipping corpora/inaugural.zip.\n",
            "[nltk_data]    | Downloading package movie_reviews to\n",
            "[nltk_data]    |     /root/nltk_data...\n",
            "[nltk_data]    |   Unzipping corpora/movie_reviews.zip.\n",
            "[nltk_data]    | Downloading package nps_chat to /root/nltk_data...\n",
            "[nltk_data]    |   Unzipping corpora/nps_chat.zip.\n",
            "[nltk_data]    | Downloading package names to /root/nltk_data...\n",
            "[nltk_data]    |   Unzipping corpora/names.zip.\n",
            "[nltk_data]    | Downloading package ppattach to /root/nltk_data...\n",
            "[nltk_data]    |   Unzipping corpora/ppattach.zip.\n",
            "[nltk_data]    | Downloading package reuters to /root/nltk_data...\n",
            "[nltk_data]    | Downloading package senseval to /root/nltk_data...\n",
            "[nltk_data]    |   Unzipping corpora/senseval.zip.\n",
            "[nltk_data]    | Downloading package state_union to /root/nltk_data...\n",
            "[nltk_data]    |   Unzipping corpora/state_union.zip.\n",
            "[nltk_data]    | Downloading package stopwords to /root/nltk_data...\n",
            "[nltk_data]    |   Unzipping corpora/stopwords.zip.\n",
            "[nltk_data]    | Downloading package swadesh to /root/nltk_data...\n",
            "[nltk_data]    |   Unzipping corpora/swadesh.zip.\n",
            "[nltk_data]    | Downloading package timit to /root/nltk_data...\n",
            "[nltk_data]    |   Unzipping corpora/timit.zip.\n",
            "[nltk_data]    | Downloading package treebank to /root/nltk_data...\n",
            "[nltk_data]    |   Unzipping corpora/treebank.zip.\n",
            "[nltk_data]    | Downloading package toolbox to /root/nltk_data...\n",
            "[nltk_data]    |   Unzipping corpora/toolbox.zip.\n",
            "[nltk_data]    | Downloading package udhr to /root/nltk_data...\n",
            "[nltk_data]    |   Unzipping corpora/udhr.zip.\n",
            "[nltk_data]    | Downloading package udhr2 to /root/nltk_data...\n",
            "[nltk_data]    |   Unzipping corpora/udhr2.zip.\n",
            "[nltk_data]    | Downloading package unicode_samples to\n",
            "[nltk_data]    |     /root/nltk_data...\n",
            "[nltk_data]    |   Unzipping corpora/unicode_samples.zip.\n",
            "[nltk_data]    | Downloading package webtext to /root/nltk_data...\n",
            "[nltk_data]    |   Unzipping corpora/webtext.zip.\n",
            "[nltk_data]    | Downloading package wordnet to /root/nltk_data...\n",
            "[nltk_data]    | Downloading package wordnet_ic to /root/nltk_data...\n",
            "[nltk_data]    |   Unzipping corpora/wordnet_ic.zip.\n",
            "[nltk_data]    | Downloading package words to /root/nltk_data...\n",
            "[nltk_data]    |   Unzipping corpora/words.zip.\n",
            "[nltk_data]    | Downloading package maxent_treebank_pos_tagger to\n",
            "[nltk_data]    |     /root/nltk_data...\n",
            "[nltk_data]    |   Unzipping taggers/maxent_treebank_pos_tagger.zip.\n",
            "[nltk_data]    | Downloading package maxent_ne_chunker to\n",
            "[nltk_data]    |     /root/nltk_data...\n",
            "[nltk_data]    |   Unzipping chunkers/maxent_ne_chunker.zip.\n",
            "[nltk_data]    | Downloading package universal_tagset to\n",
            "[nltk_data]    |     /root/nltk_data...\n",
            "[nltk_data]    |   Unzipping taggers/universal_tagset.zip.\n",
            "[nltk_data]    | Downloading package punkt to /root/nltk_data...\n",
            "[nltk_data]    |   Unzipping tokenizers/punkt.zip.\n",
            "[nltk_data]    | Downloading package book_grammars to\n",
            "[nltk_data]    |     /root/nltk_data...\n",
            "[nltk_data]    |   Unzipping grammars/book_grammars.zip.\n",
            "[nltk_data]    | Downloading package city_database to\n",
            "[nltk_data]    |     /root/nltk_data...\n",
            "[nltk_data]    |   Unzipping corpora/city_database.zip.\n",
            "[nltk_data]    | Downloading package tagsets to /root/nltk_data...\n",
            "[nltk_data]    |   Unzipping help/tagsets.zip.\n",
            "[nltk_data]    | Downloading package panlex_swadesh to\n",
            "[nltk_data]    |     /root/nltk_data...\n",
            "[nltk_data]    | Downloading package averaged_perceptron_tagger to\n",
            "[nltk_data]    |     /root/nltk_data...\n",
            "[nltk_data]    |   Unzipping taggers/averaged_perceptron_tagger.zip.\n",
            "[nltk_data]    | \n",
            "[nltk_data]  Done downloading collection book\n"
          ]
        },
        {
          "output_type": "execute_result",
          "data": {
            "text/plain": [
              "True"
            ]
          },
          "metadata": {},
          "execution_count": 5
        }
      ]
    },
    {
      "cell_type": "code",
      "source": [
        "from nltk.book import *"
      ],
      "metadata": {
        "colab": {
          "base_uri": "https://localhost:8080/"
        },
        "id": "2IJc0C7AYkQ8",
        "outputId": "a1526b66-39d2-4415-aa59-3587927cb302"
      },
      "execution_count": null,
      "outputs": [
        {
          "output_type": "stream",
          "name": "stdout",
          "text": [
            "*** Introductory Examples for the NLTK Book ***\n",
            "Loading text1, ..., text9 and sent1, ..., sent9\n",
            "Type the name of the text or sentence to view it.\n",
            "Type: 'texts()' or 'sents()' to list the materials.\n",
            "text1: Moby Dick by Herman Melville 1851\n",
            "text2: Sense and Sensibility by Jane Austen 1811\n",
            "text3: The Book of Genesis\n",
            "text4: Inaugural Address Corpus\n",
            "text5: Chat Corpus\n",
            "text6: Monty Python and the Holy Grail\n",
            "text7: Wall Street Journal\n",
            "text8: Personals Corpus\n",
            "text9: The Man Who Was Thursday by G . K . Chesterton 1908\n"
          ]
        }
      ]
    },
    {
      "cell_type": "code",
      "source": [
        "text1.concordance(\"monstrous\")"
      ],
      "metadata": {
        "colab": {
          "base_uri": "https://localhost:8080/"
        },
        "id": "n4e46mj_Ym22",
        "outputId": "1f2f30d4-6f37-4936-a14f-8764894549d6"
      },
      "execution_count": null,
      "outputs": [
        {
          "output_type": "stream",
          "name": "stdout",
          "text": [
            "Displaying 11 of 11 matches:\n",
            "ong the former , one was of a most monstrous size . ... This came towards us , \n",
            "ON OF THE PSALMS . \" Touching that monstrous bulk of the whale or ork we have r\n",
            "ll over with a heathenish array of monstrous clubs and spears . Some were thick\n",
            "d as you gazed , and wondered what monstrous cannibal and savage could ever hav\n",
            "that has survived the flood ; most monstrous and most mountainous ! That Himmal\n",
            "they might scout at Moby Dick as a monstrous fable , or still worse and more de\n",
            "th of Radney .'\" CHAPTER 55 Of the Monstrous Pictures of Whales . I shall ere l\n",
            "ing Scenes . In connexion with the monstrous pictures of whales , I am strongly\n",
            "ere to enter upon those still more monstrous stories of them which are to be fo\n",
            "ght have been rummaged out of this monstrous cabinet there is no telling . But \n",
            "of Whale - Bones ; for Whales of a monstrous size are oftentimes cast up dead u\n"
          ]
        }
      ]
    },
    {
      "cell_type": "code",
      "source": [
        "sent1"
      ],
      "metadata": {
        "colab": {
          "base_uri": "https://localhost:8080/"
        },
        "id": "5OvL9s2IY64M",
        "outputId": "54f3e6ea-0c64-4730-cb7f-0eabc83f87cc"
      },
      "execution_count": null,
      "outputs": [
        {
          "output_type": "execute_result",
          "data": {
            "text/plain": [
              "['Call', 'me', 'Ishmael', '.']"
            ]
          },
          "metadata": {},
          "execution_count": 8
        }
      ]
    },
    {
      "cell_type": "code",
      "source": [
        "text2.concordance(\"affection\")"
      ],
      "metadata": {
        "colab": {
          "base_uri": "https://localhost:8080/"
        },
        "id": "lTAPArwTY_4G",
        "outputId": "1dffdca0-a859-46e8-a2c0-96dc58875a63"
      },
      "execution_count": null,
      "outputs": [
        {
          "output_type": "stream",
          "name": "stdout",
          "text": [
            "Displaying 25 of 79 matches:\n",
            ", however , and , as a mark of his affection for the three girls , he left them\n",
            "t . It was very well known that no affection was ever supposed to exist between\n",
            "deration of politeness or maternal affection on the side of the former , the tw\n",
            "d the suspicion -- the hope of his affection for me may warrant , without impru\n",
            "hich forbade the indulgence of his affection . She knew that his mother neither\n",
            "rd she gave one with still greater affection . Though her late conversation wit\n",
            " can never hope to feel or inspire affection again , and if her home be uncomfo\n",
            "m of the sense , elegance , mutual affection , and domestic comfort of the fami\n",
            ", and which recommended him to her affection beyond every thing else . His soci\n",
            "ween the parties might forward the affection of Mr . Willoughby , an equally st\n",
            " the most pointed assurance of her affection . Elinor could not be surprised at\n",
            "he natural consequence of a strong affection in a young and ardent mind . This \n",
            " opinion . But by an appeal to her affection for her mother , by representing t\n",
            " every alteration of a place which affection had established as perfect with hi\n",
            "e will always have one claim of my affection , which no other can possibly shar\n",
            "f the evening declared at once his affection and happiness . \" Shall we see you\n",
            "ause he took leave of us with less affection than his usual behaviour has shewn\n",
            "ness .\" \" I want no proof of their affection ,\" said Elinor ; \" but of their en\n",
            "onths , without telling her of his affection ;-- that they should part without \n",
            "ould be the natural result of your affection for her . She used to be all unres\n",
            "distinguished Elinor by no mark of affection . Marianne saw and listened with i\n",
            "th no inclination for expense , no affection for strangers , no profession , an\n",
            "till distinguished her by the same affection which once she had felt no doubt o\n",
            "al of her confidence in Edward ' s affection , to the remembrance of every mark\n",
            " was made ? Had he never owned his affection to yourself ?\" \" Oh , no ; but if \n"
          ]
        }
      ]
    },
    {
      "cell_type": "code",
      "source": [
        "text1.similar(\"monstrous\")"
      ],
      "metadata": {
        "colab": {
          "base_uri": "https://localhost:8080/"
        },
        "id": "dLKxcykHZLD6",
        "outputId": "2e1d09e1-2fda-4592-cba7-c342f93dc618"
      },
      "execution_count": null,
      "outputs": [
        {
          "output_type": "stream",
          "name": "stdout",
          "text": [
            "true contemptible christian abundant few part mean careful puzzled\n",
            "mystifying passing curious loving wise doleful gamesome singular\n",
            "delightfully perilous fearless\n"
          ]
        }
      ]
    },
    {
      "cell_type": "code",
      "source": [
        "text2.similar(\"monstrous\")"
      ],
      "metadata": {
        "colab": {
          "base_uri": "https://localhost:8080/"
        },
        "id": "fpV3prFTZsyC",
        "outputId": "37b25900-eb48-4cca-8f78-62ef6141f4d6"
      },
      "execution_count": null,
      "outputs": [
        {
          "output_type": "stream",
          "name": "stdout",
          "text": [
            "very so exceedingly heartily a as good great extremely remarkably\n",
            "sweet vast amazingly\n"
          ]
        }
      ]
    },
    {
      "cell_type": "code",
      "source": [
        "len(text3)"
      ],
      "metadata": {
        "colab": {
          "base_uri": "https://localhost:8080/"
        },
        "id": "6ZXeI4RPZ0WR",
        "outputId": "e58a5541-d8db-403e-c5f2-0bf5fc816c81"
      },
      "execution_count": null,
      "outputs": [
        {
          "output_type": "execute_result",
          "data": {
            "text/plain": [
              "44764"
            ]
          },
          "metadata": {},
          "execution_count": 12
        }
      ]
    },
    {
      "cell_type": "code",
      "source": [
        "len(sorted(set(text3)))"
      ],
      "metadata": {
        "colab": {
          "base_uri": "https://localhost:8080/"
        },
        "id": "jaVCUrLLaWMq",
        "outputId": "a584fdc7-fde4-485f-87f7-0b0f795c0d7d"
      },
      "execution_count": null,
      "outputs": [
        {
          "output_type": "execute_result",
          "data": {
            "text/plain": [
              "2789"
            ]
          },
          "metadata": {},
          "execution_count": 13
        }
      ]
    },
    {
      "cell_type": "code",
      "source": [
        "sorted(set(text3))[:30]"
      ],
      "metadata": {
        "colab": {
          "base_uri": "https://localhost:8080/"
        },
        "id": "Cwe7IzAdalli",
        "outputId": "341467d3-b7f1-4e4e-a1ce-6ca078f3c0fd"
      },
      "execution_count": null,
      "outputs": [
        {
          "output_type": "execute_result",
          "data": {
            "text/plain": [
              "['!',\n",
              " \"'\",\n",
              " '(',\n",
              " ')',\n",
              " ',',\n",
              " ',)',\n",
              " '.',\n",
              " '.)',\n",
              " ':',\n",
              " ';',\n",
              " ';)',\n",
              " '?',\n",
              " '?)',\n",
              " 'A',\n",
              " 'Abel',\n",
              " 'Abelmizraim',\n",
              " 'Abidah',\n",
              " 'Abide',\n",
              " 'Abimael',\n",
              " 'Abimelech',\n",
              " 'Abr',\n",
              " 'Abrah',\n",
              " 'Abraham',\n",
              " 'Abram',\n",
              " 'Accad',\n",
              " 'Achbor',\n",
              " 'Adah',\n",
              " 'Adam',\n",
              " 'Adbeel',\n",
              " 'Admah']"
            ]
          },
          "metadata": {},
          "execution_count": 15
        }
      ]
    },
    {
      "cell_type": "code",
      "source": [
        "len(text3)/len(sorted(set(text3)))"
      ],
      "metadata": {
        "colab": {
          "base_uri": "https://localhost:8080/"
        },
        "id": "GADMIDboavZM",
        "outputId": "90b15255-6f9f-404f-d683-1b2d223e3ef0"
      },
      "execution_count": null,
      "outputs": [
        {
          "output_type": "execute_result",
          "data": {
            "text/plain": [
              "16.050197203298673"
            ]
          },
          "metadata": {},
          "execution_count": 16
        }
      ]
    },
    {
      "cell_type": "code",
      "source": [
        "text3.count(\"smote\")"
      ],
      "metadata": {
        "colab": {
          "base_uri": "https://localhost:8080/"
        },
        "id": "a4XD2_UMbAvr",
        "outputId": "7e220b69-8dde-4e48-d6a3-972d2d4871db"
      },
      "execution_count": null,
      "outputs": [
        {
          "output_type": "execute_result",
          "data": {
            "text/plain": [
              "5"
            ]
          },
          "metadata": {},
          "execution_count": 17
        }
      ]
    },
    {
      "cell_type": "code",
      "source": [
        "100*text3.count(\"smote\")/len(text3)"
      ],
      "metadata": {
        "colab": {
          "base_uri": "https://localhost:8080/"
        },
        "id": "uwq7MIwzbLHM",
        "outputId": "c9b13ec0-6bd1-46f5-bf10-dcfbffba9fe7"
      },
      "execution_count": null,
      "outputs": [
        {
          "output_type": "execute_result",
          "data": {
            "text/plain": [
              "0.01116968992940756"
            ]
          },
          "metadata": {},
          "execution_count": 18
        }
      ]
    },
    {
      "cell_type": "code",
      "source": [
        "100*text3.count(\"a\")/len(text3)"
      ],
      "metadata": {
        "colab": {
          "base_uri": "https://localhost:8080/"
        },
        "id": "V83IAac8b5cw",
        "outputId": "67b42c24-a287-40f7-f3a9-19ea42e82f2b"
      },
      "execution_count": null,
      "outputs": [
        {
          "output_type": "execute_result",
          "data": {
            "text/plain": [
              "0.7640067911714771"
            ]
          },
          "metadata": {},
          "execution_count": 21
        }
      ]
    },
    {
      "cell_type": "markdown",
      "source": [
        "# Processing text"
      ],
      "metadata": {
        "id": "UNBHxb3AcPNa"
      }
    },
    {
      "cell_type": "code",
      "source": [
        "nltk.corpus.gutenberg.fileids()"
      ],
      "metadata": {
        "colab": {
          "base_uri": "https://localhost:8080/"
        },
        "id": "98S-1-apb_C4",
        "outputId": "402bec95-4e1b-4750-c142-ffcf7f86e951"
      },
      "execution_count": null,
      "outputs": [
        {
          "output_type": "execute_result",
          "data": {
            "text/plain": [
              "['austen-emma.txt',\n",
              " 'austen-persuasion.txt',\n",
              " 'austen-sense.txt',\n",
              " 'bible-kjv.txt',\n",
              " 'blake-poems.txt',\n",
              " 'bryant-stories.txt',\n",
              " 'burgess-busterbrown.txt',\n",
              " 'carroll-alice.txt',\n",
              " 'chesterton-ball.txt',\n",
              " 'chesterton-brown.txt',\n",
              " 'chesterton-thursday.txt',\n",
              " 'edgeworth-parents.txt',\n",
              " 'melville-moby_dick.txt',\n",
              " 'milton-paradise.txt',\n",
              " 'shakespeare-caesar.txt',\n",
              " 'shakespeare-hamlet.txt',\n",
              " 'shakespeare-macbeth.txt',\n",
              " 'whitman-leaves.txt']"
            ]
          },
          "metadata": {},
          "execution_count": 22
        }
      ]
    },
    {
      "cell_type": "code",
      "source": [
        "file1 = nltk.corpus.gutenberg.fileids()[0]"
      ],
      "metadata": {
        "id": "mWZjqso6cXgy"
      },
      "execution_count": null,
      "outputs": []
    },
    {
      "cell_type": "code",
      "source": [
        "file1"
      ],
      "metadata": {
        "colab": {
          "base_uri": "https://localhost:8080/",
          "height": 35
        },
        "id": "iKLD97BackMO",
        "outputId": "18f977ef-c002-49de-9112-84660fcebbd6"
      },
      "execution_count": null,
      "outputs": [
        {
          "output_type": "execute_result",
          "data": {
            "text/plain": [
              "'austen-emma.txt'"
            ],
            "application/vnd.google.colaboratory.intrinsic+json": {
              "type": "string"
            }
          },
          "metadata": {},
          "execution_count": 24
        }
      ]
    },
    {
      "cell_type": "code",
      "source": [
        "emmatext = nltk.corpus.gutenberg.raw(file1)"
      ],
      "metadata": {
        "id": "WmpKbZO-cmYW"
      },
      "execution_count": null,
      "outputs": []
    },
    {
      "cell_type": "code",
      "source": [
        "type(emmatext)"
      ],
      "metadata": {
        "colab": {
          "base_uri": "https://localhost:8080/"
        },
        "id": "JCi9rdKNcsCA",
        "outputId": "33e7a551-769a-4c14-ab77-c2601baa5512"
      },
      "execution_count": null,
      "outputs": [
        {
          "output_type": "execute_result",
          "data": {
            "text/plain": [
              "str"
            ]
          },
          "metadata": {},
          "execution_count": 26
        }
      ]
    },
    {
      "cell_type": "code",
      "source": [
        "len(emmatext)"
      ],
      "metadata": {
        "colab": {
          "base_uri": "https://localhost:8080/"
        },
        "id": "Lf2sscfpcwKn",
        "outputId": "c3d69c44-c84e-4ef4-a5e1-d5e1844c20d7"
      },
      "execution_count": null,
      "outputs": [
        {
          "output_type": "execute_result",
          "data": {
            "text/plain": [
              "887071"
            ]
          },
          "metadata": {},
          "execution_count": 27
        }
      ]
    },
    {
      "cell_type": "code",
      "source": [
        "emmatext[:120]"
      ],
      "metadata": {
        "colab": {
          "base_uri": "https://localhost:8080/",
          "height": 35
        },
        "id": "z2Ogm8c8czIO",
        "outputId": "09d2c1dc-e4da-40b4-dee3-56a9c0ed0722"
      },
      "execution_count": null,
      "outputs": [
        {
          "output_type": "execute_result",
          "data": {
            "text/plain": [
              "'[Emma by Jane Austen 1816]\\n\\nVOLUME I\\n\\nCHAPTER I\\n\\n\\nEmma Woodhouse, handsome, clever, and rich, with a comfortable home\\nan'"
            ],
            "application/vnd.google.colaboratory.intrinsic+json": {
              "type": "string"
            }
          },
          "metadata": {},
          "execution_count": 28
        }
      ]
    },
    {
      "cell_type": "code",
      "source": [
        "emmatext[4]"
      ],
      "metadata": {
        "colab": {
          "base_uri": "https://localhost:8080/",
          "height": 35
        },
        "id": "kmDvbypMc5o9",
        "outputId": "495612ae-c7c2-46e2-8aad-d644c0af6453"
      },
      "execution_count": null,
      "outputs": [
        {
          "output_type": "execute_result",
          "data": {
            "text/plain": [
              "'a'"
            ],
            "application/vnd.google.colaboratory.intrinsic+json": {
              "type": "string"
            }
          },
          "metadata": {},
          "execution_count": 29
        }
      ]
    },
    {
      "cell_type": "code",
      "source": [
        "emmatext[5]"
      ],
      "metadata": {
        "colab": {
          "base_uri": "https://localhost:8080/",
          "height": 35
        },
        "id": "JGTbJ077dAQe",
        "outputId": "f9d8f9e4-a0fe-4900-f5f1-ddb83c4d8b3d"
      },
      "execution_count": null,
      "outputs": [
        {
          "output_type": "execute_result",
          "data": {
            "text/plain": [
              "' '"
            ],
            "application/vnd.google.colaboratory.intrinsic+json": {
              "type": "string"
            }
          },
          "metadata": {},
          "execution_count": 30
        }
      ]
    },
    {
      "cell_type": "code",
      "source": [
        "emmatokens = nltk.wordpunct_tokenize(emmatext)"
      ],
      "metadata": {
        "id": "ljRIWQFydC57"
      },
      "execution_count": null,
      "outputs": []
    },
    {
      "cell_type": "code",
      "source": [
        "len(emmatokens)"
      ],
      "metadata": {
        "colab": {
          "base_uri": "https://localhost:8080/"
        },
        "id": "AarqZ9AYdTqd",
        "outputId": "5bc2d3db-930e-4196-ec4a-6bb730098479"
      },
      "execution_count": null,
      "outputs": [
        {
          "output_type": "execute_result",
          "data": {
            "text/plain": [
              "192427"
            ]
          },
          "metadata": {},
          "execution_count": 32
        }
      ]
    },
    {
      "cell_type": "code",
      "source": [
        "emmatokens[:50]"
      ],
      "metadata": {
        "colab": {
          "base_uri": "https://localhost:8080/"
        },
        "id": "ITjt2nX6dXu2",
        "outputId": "df229321-bcf9-40de-b9f3-df45a951c805"
      },
      "execution_count": null,
      "outputs": [
        {
          "output_type": "execute_result",
          "data": {
            "text/plain": [
              "['[',\n",
              " 'Emma',\n",
              " 'by',\n",
              " 'Jane',\n",
              " 'Austen',\n",
              " '1816',\n",
              " ']',\n",
              " 'VOLUME',\n",
              " 'I',\n",
              " 'CHAPTER',\n",
              " 'I',\n",
              " 'Emma',\n",
              " 'Woodhouse',\n",
              " ',',\n",
              " 'handsome',\n",
              " ',',\n",
              " 'clever',\n",
              " ',',\n",
              " 'and',\n",
              " 'rich',\n",
              " ',',\n",
              " 'with',\n",
              " 'a',\n",
              " 'comfortable',\n",
              " 'home',\n",
              " 'and',\n",
              " 'happy',\n",
              " 'disposition',\n",
              " ',',\n",
              " 'seemed',\n",
              " 'to',\n",
              " 'unite',\n",
              " 'some',\n",
              " 'of',\n",
              " 'the',\n",
              " 'best',\n",
              " 'blessings',\n",
              " 'of',\n",
              " 'existence',\n",
              " ';',\n",
              " 'and',\n",
              " 'had',\n",
              " 'lived',\n",
              " 'nearly',\n",
              " 'twenty',\n",
              " '-',\n",
              " 'one',\n",
              " 'years',\n",
              " 'in',\n",
              " 'the']"
            ]
          },
          "metadata": {},
          "execution_count": 33
        }
      ]
    },
    {
      "cell_type": "code",
      "source": [
        "emmawords = [w.lower() for w in emmatokens]"
      ],
      "metadata": {
        "id": "AFgHbXsbddS3"
      },
      "execution_count": null,
      "outputs": []
    },
    {
      "cell_type": "code",
      "source": [
        "emmawords[:30]"
      ],
      "metadata": {
        "colab": {
          "base_uri": "https://localhost:8080/"
        },
        "id": "HUclK2t7d1AQ",
        "outputId": "ec29529a-a0ca-4525-a127-55ee8d3e4152"
      },
      "execution_count": null,
      "outputs": [
        {
          "output_type": "execute_result",
          "data": {
            "text/plain": [
              "['[',\n",
              " 'emma',\n",
              " 'by',\n",
              " 'jane',\n",
              " 'austen',\n",
              " '1816',\n",
              " ']',\n",
              " 'volume',\n",
              " 'i',\n",
              " 'chapter',\n",
              " 'i',\n",
              " 'emma',\n",
              " 'woodhouse',\n",
              " ',',\n",
              " 'handsome',\n",
              " ',',\n",
              " 'clever',\n",
              " ',',\n",
              " 'and',\n",
              " 'rich',\n",
              " ',',\n",
              " 'with',\n",
              " 'a',\n",
              " 'comfortable',\n",
              " 'home',\n",
              " 'and',\n",
              " 'happy',\n",
              " 'disposition',\n",
              " ',',\n",
              " 'seemed']"
            ]
          },
          "metadata": {},
          "execution_count": 35
        }
      ]
    },
    {
      "cell_type": "code",
      "source": [
        "emmavocab = sorted(set(emmawords))"
      ],
      "metadata": {
        "id": "N3sLVG0zd22G"
      },
      "execution_count": null,
      "outputs": []
    },
    {
      "cell_type": "code",
      "source": [
        "len(emmavocab)"
      ],
      "metadata": {
        "colab": {
          "base_uri": "https://localhost:8080/"
        },
        "id": "oCoE8z30fZZG",
        "outputId": "c1ec4a61-5623-407a-c400-9c9664533be9"
      },
      "execution_count": null,
      "outputs": [
        {
          "output_type": "execute_result",
          "data": {
            "text/plain": [
              "7344"
            ]
          },
          "metadata": {},
          "execution_count": 37
        }
      ]
    },
    {
      "cell_type": "code",
      "source": [
        "emmavocab[690:700]"
      ],
      "metadata": {
        "colab": {
          "base_uri": "https://localhost:8080/"
        },
        "id": "h7aFTzPZfcic",
        "outputId": "293630a8-2290-4780-c53b-21d62ac1d77d"
      },
      "execution_count": null,
      "outputs": [
        {
          "output_type": "execute_result",
          "data": {
            "text/plain": [
              "['artificial',\n",
              " 'artist',\n",
              " 'artless',\n",
              " 'artlessly',\n",
              " 'artlessness',\n",
              " 'as',\n",
              " 'ascending',\n",
              " 'ascertain',\n",
              " 'ashamed',\n",
              " 'aside']"
            ]
          },
          "metadata": {},
          "execution_count": 38
        }
      ]
    },
    {
      "cell_type": "code",
      "source": [
        "emmadict = dict()"
      ],
      "metadata": {
        "id": "BRGLkkthfhk5"
      },
      "execution_count": null,
      "outputs": []
    },
    {
      "cell_type": "code",
      "source": [
        "for w in emmawords:\n",
        "  if w in emmadict:\n",
        "    emmadict[w] +=1\n",
        "  else: emmadict[w] =1"
      ],
      "metadata": {
        "id": "Jm0uaqS1fsJF"
      },
      "execution_count": null,
      "outputs": []
    },
    {
      "cell_type": "code",
      "source": [
        "len(emmadict.keys())"
      ],
      "metadata": {
        "colab": {
          "base_uri": "https://localhost:8080/"
        },
        "id": "cYsWLkDrgDQv",
        "outputId": "54d1e36f-1465-4516-9cbd-1d39b399bae4"
      },
      "execution_count": null,
      "outputs": [
        {
          "output_type": "execute_result",
          "data": {
            "text/plain": [
              "7344"
            ]
          },
          "metadata": {},
          "execution_count": 41
        }
      ]
    },
    {
      "cell_type": "code",
      "source": [
        "pip install nltk"
      ],
      "metadata": {
        "colab": {
          "base_uri": "https://localhost:8080/"
        },
        "id": "fjBbntN2gaTN",
        "outputId": "fb41719b-6091-493c-f972-17dc854d4915"
      },
      "execution_count": null,
      "outputs": [
        {
          "output_type": "stream",
          "name": "stdout",
          "text": [
            "Requirement already satisfied: nltk in /usr/local/lib/python3.10/dist-packages (3.8.1)\n",
            "Requirement already satisfied: click in /usr/local/lib/python3.10/dist-packages (from nltk) (8.1.7)\n",
            "Requirement already satisfied: joblib in /usr/local/lib/python3.10/dist-packages (from nltk) (1.3.2)\n",
            "Requirement already satisfied: regex>=2021.8.3 in /usr/local/lib/python3.10/dist-packages (from nltk) (2023.12.25)\n",
            "Requirement already satisfied: tqdm in /usr/local/lib/python3.10/dist-packages (from nltk) (4.66.2)\n"
          ]
        }
      ]
    },
    {
      "cell_type": "code",
      "source": [
        "from nltk.probability import FreqDist"
      ],
      "metadata": {
        "id": "FfHHl9PpgIhU"
      },
      "execution_count": null,
      "outputs": []
    },
    {
      "cell_type": "code",
      "source": [
        "fdist = FreqDist(emmawords)"
      ],
      "metadata": {
        "id": "dFseGu80gyn8"
      },
      "execution_count": null,
      "outputs": []
    },
    {
      "cell_type": "code",
      "source": [
        "len(fdist) #emmadict == fdist 는 트루"
      ],
      "metadata": {
        "colab": {
          "base_uri": "https://localhost:8080/"
        },
        "id": "rbRSqJSMg9se",
        "outputId": "f31a6402-a26c-4a40-fc29-beb88871e9e4"
      },
      "execution_count": null,
      "outputs": [
        {
          "output_type": "execute_result",
          "data": {
            "text/plain": [
              "7344"
            ]
          },
          "metadata": {},
          "execution_count": 47
        }
      ]
    },
    {
      "cell_type": "code",
      "source": [
        "list(fdist.keys())[:50]"
      ],
      "metadata": {
        "colab": {
          "base_uri": "https://localhost:8080/"
        },
        "id": "qNC0nEO7hB2Q",
        "outputId": "321c81ea-2285-46b6-98b5-aa7eb8d305b2"
      },
      "execution_count": null,
      "outputs": [
        {
          "output_type": "execute_result",
          "data": {
            "text/plain": [
              "['[',\n",
              " 'emma',\n",
              " 'by',\n",
              " 'jane',\n",
              " 'austen',\n",
              " '1816',\n",
              " ']',\n",
              " 'volume',\n",
              " 'i',\n",
              " 'chapter',\n",
              " 'woodhouse',\n",
              " ',',\n",
              " 'handsome',\n",
              " 'clever',\n",
              " 'and',\n",
              " 'rich',\n",
              " 'with',\n",
              " 'a',\n",
              " 'comfortable',\n",
              " 'home',\n",
              " 'happy',\n",
              " 'disposition',\n",
              " 'seemed',\n",
              " 'to',\n",
              " 'unite',\n",
              " 'some',\n",
              " 'of',\n",
              " 'the',\n",
              " 'best',\n",
              " 'blessings',\n",
              " 'existence',\n",
              " ';',\n",
              " 'had',\n",
              " 'lived',\n",
              " 'nearly',\n",
              " 'twenty',\n",
              " '-',\n",
              " 'one',\n",
              " 'years',\n",
              " 'in',\n",
              " 'world',\n",
              " 'very',\n",
              " 'little',\n",
              " 'distress',\n",
              " 'or',\n",
              " 'vex',\n",
              " 'her',\n",
              " '.',\n",
              " 'she',\n",
              " 'was']"
            ]
          },
          "metadata": {},
          "execution_count": 48
        }
      ]
    },
    {
      "cell_type": "code",
      "source": [
        "fdist['emma']"
      ],
      "metadata": {
        "colab": {
          "base_uri": "https://localhost:8080/"
        },
        "id": "o5sRb7IFhPCA",
        "outputId": "02b78276-860a-4783-ffb2-c13a4044bd8a"
      },
      "execution_count": null,
      "outputs": [
        {
          "output_type": "execute_result",
          "data": {
            "text/plain": [
              "865"
            ]
          },
          "metadata": {},
          "execution_count": 49
        }
      ]
    },
    {
      "cell_type": "code",
      "source": [
        "fdist['the']"
      ],
      "metadata": {
        "colab": {
          "base_uri": "https://localhost:8080/"
        },
        "id": "kO7Bj_i1hU26",
        "outputId": "b9f1d708-b688-410c-f4e0-aaae5e5dc25b"
      },
      "execution_count": null,
      "outputs": [
        {
          "output_type": "execute_result",
          "data": {
            "text/plain": [
              "5201"
            ]
          },
          "metadata": {},
          "execution_count": 50
        }
      ]
    },
    {
      "cell_type": "code",
      "source": [
        "fdist['a']"
      ],
      "metadata": {
        "colab": {
          "base_uri": "https://localhost:8080/"
        },
        "id": "NES8mnRkhW7j",
        "outputId": "fdd4be31-c354-44d8-fa6f-31e22b051295"
      },
      "execution_count": null,
      "outputs": [
        {
          "output_type": "execute_result",
          "data": {
            "text/plain": [
              "3129"
            ]
          },
          "metadata": {},
          "execution_count": 52
        }
      ]
    },
    {
      "cell_type": "code",
      "source": [
        "for word in list(fdist.keys())[:10]:\n",
        "  print(word, fdist[word])"
      ],
      "metadata": {
        "colab": {
          "base_uri": "https://localhost:8080/"
        },
        "id": "X7XaJaRUhaDw",
        "outputId": "685c5826-16e7-45f6-9b81-f16ff396da6b"
      },
      "execution_count": null,
      "outputs": [
        {
          "output_type": "stream",
          "name": "stdout",
          "text": [
            "[ 2\n",
            "emma 865\n",
            "by 571\n",
            "jane 301\n",
            "austen 1\n",
            "1816 1\n",
            "] 1\n",
            "volume 3\n",
            "i 3178\n",
            "chapter 56\n"
          ]
        }
      ]
    },
    {
      "cell_type": "code",
      "source": [
        "fdist.most_common(30)"
      ],
      "metadata": {
        "colab": {
          "base_uri": "https://localhost:8080/"
        },
        "id": "i7p8HIZ8h4CJ",
        "outputId": "0755195f-e977-4edc-80fc-799599177543"
      },
      "execution_count": null,
      "outputs": [
        {
          "output_type": "execute_result",
          "data": {
            "text/plain": [
              "[(',', 11454),\n",
              " ('.', 6928),\n",
              " ('to', 5239),\n",
              " ('the', 5201),\n",
              " ('and', 4896),\n",
              " ('of', 4291),\n",
              " ('i', 3178),\n",
              " ('a', 3129),\n",
              " ('it', 2528),\n",
              " ('her', 2469),\n",
              " ('was', 2398),\n",
              " ('she', 2340),\n",
              " (';', 2199),\n",
              " ('in', 2188),\n",
              " ('not', 2140),\n",
              " ('\"', 2004),\n",
              " ('you', 1980),\n",
              " ('be', 1975),\n",
              " ('that', 1806),\n",
              " ('he', 1806),\n",
              " ('had', 1624),\n",
              " ('but', 1441),\n",
              " ('as', 1436),\n",
              " ('--', 1382),\n",
              " ('for', 1347),\n",
              " ('have', 1320),\n",
              " ('is', 1240),\n",
              " ('with', 1217),\n",
              " ('very', 1202),\n",
              " ('mr', 1153)]"
            ]
          },
          "metadata": {},
          "execution_count": 54
        }
      ]
    },
    {
      "cell_type": "markdown",
      "source": [
        "# Stemming(어간추출) and lemmatization(표제어 추출)"
      ],
      "metadata": {
        "id": "ozJ5oIT9jbDa"
      }
    },
    {
      "cell_type": "code",
      "source": [
        "porter = nltk.PorterStemmer()"
      ],
      "metadata": {
        "id": "Q5tAueVTh9xb"
      },
      "execution_count": null,
      "outputs": []
    },
    {
      "cell_type": "code",
      "source": [
        "lancaster = nltk.LancasterStemmer()"
      ],
      "metadata": {
        "id": "ijK_FYRbjkmJ"
      },
      "execution_count": null,
      "outputs": []
    },
    {
      "cell_type": "code",
      "source": [
        "emma_porter_stem = [porter.stem(t) for t in emmatokens]\n",
        "\n",
        "for i in range(1, 100):\n",
        "  print(emmatokens[i], emma_porter_stem[i])"
      ],
      "metadata": {
        "colab": {
          "base_uri": "https://localhost:8080/"
        },
        "id": "lvu7tABijqN5",
        "outputId": "80f25e07-07df-4746-c287-f0b16967467e"
      },
      "execution_count": null,
      "outputs": [
        {
          "output_type": "stream",
          "name": "stdout",
          "text": [
            "Emma emma\n",
            "by by\n",
            "Jane jane\n",
            "Austen austen\n",
            "1816 1816\n",
            "] ]\n",
            "VOLUME volum\n",
            "I i\n",
            "CHAPTER chapter\n",
            "I i\n",
            "Emma emma\n",
            "Woodhouse woodhous\n",
            ", ,\n",
            "handsome handsom\n",
            ", ,\n",
            "clever clever\n",
            ", ,\n",
            "and and\n",
            "rich rich\n",
            ", ,\n",
            "with with\n",
            "a a\n",
            "comfortable comfort\n",
            "home home\n",
            "and and\n",
            "happy happi\n",
            "disposition disposit\n",
            ", ,\n",
            "seemed seem\n",
            "to to\n",
            "unite unit\n",
            "some some\n",
            "of of\n",
            "the the\n",
            "best best\n",
            "blessings bless\n",
            "of of\n",
            "existence exist\n",
            "; ;\n",
            "and and\n",
            "had had\n",
            "lived live\n",
            "nearly nearli\n",
            "twenty twenti\n",
            "- -\n",
            "one one\n",
            "years year\n",
            "in in\n",
            "the the\n",
            "world world\n",
            "with with\n",
            "very veri\n",
            "little littl\n",
            "to to\n",
            "distress distress\n",
            "or or\n",
            "vex vex\n",
            "her her\n",
            ". .\n",
            "She she\n",
            "was wa\n",
            "the the\n",
            "youngest youngest\n",
            "of of\n",
            "the the\n",
            "two two\n",
            "daughters daughter\n",
            "of of\n",
            "a a\n",
            "most most\n",
            "affectionate affection\n",
            ", ,\n",
            "indulgent indulg\n",
            "father father\n",
            "; ;\n",
            "and and\n",
            "had had\n",
            ", ,\n",
            "in in\n",
            "consequence consequ\n",
            "of of\n",
            "her her\n",
            "sister sister\n",
            "' '\n",
            "s s\n",
            "marriage marriag\n",
            ", ,\n",
            "been been\n",
            "mistress mistress\n",
            "of of\n",
            "his hi\n",
            "house hous\n",
            "from from\n",
            "a a\n",
            "very veri\n",
            "early earli\n",
            "period period\n",
            ". .\n",
            "Her her\n"
          ]
        }
      ]
    },
    {
      "cell_type": "code",
      "source": [
        "emma_lancaster_stem = [lancaster.stem(t) for t in emmatokens]\n",
        "for i in range(1, 100):\n",
        "  print(emmatokens[i], emma_lancaster_stem[i])"
      ],
      "metadata": {
        "colab": {
          "base_uri": "https://localhost:8080/"
        },
        "id": "uBnLhrb3j4wK",
        "outputId": "cf5dc8ad-acaf-40e7-a3c8-e3fae37a8226"
      },
      "execution_count": null,
      "outputs": [
        {
          "output_type": "stream",
          "name": "stdout",
          "text": [
            "Emma emm\n",
            "by by\n",
            "Jane jan\n",
            "Austen aust\n",
            "1816 1816\n",
            "] ]\n",
            "VOLUME volum\n",
            "I i\n",
            "CHAPTER chapt\n",
            "I i\n",
            "Emma emm\n",
            "Woodhouse woodh\n",
            ", ,\n",
            "handsome handsom\n",
            ", ,\n",
            "clever clev\n",
            ", ,\n",
            "and and\n",
            "rich rich\n",
            ", ,\n",
            "with with\n",
            "a a\n",
            "comfortable comfort\n",
            "home hom\n",
            "and and\n",
            "happy happy\n",
            "disposition disposit\n",
            ", ,\n",
            "seemed seem\n",
            "to to\n",
            "unite unit\n",
            "some som\n",
            "of of\n",
            "the the\n",
            "best best\n",
            "blessings bless\n",
            "of of\n",
            "existence ex\n",
            "; ;\n",
            "and and\n",
            "had had\n",
            "lived liv\n",
            "nearly near\n",
            "twenty twenty\n",
            "- -\n",
            "one on\n",
            "years year\n",
            "in in\n",
            "the the\n",
            "world world\n",
            "with with\n",
            "very very\n",
            "little littl\n",
            "to to\n",
            "distress distress\n",
            "or or\n",
            "vex vex\n",
            "her her\n",
            ". .\n",
            "She she\n",
            "was was\n",
            "the the\n",
            "youngest youngest\n",
            "of of\n",
            "the the\n",
            "two two\n",
            "daughters daught\n",
            "of of\n",
            "a a\n",
            "most most\n",
            "affectionate affect\n",
            ", ,\n",
            "indulgent indulg\n",
            "father fath\n",
            "; ;\n",
            "and and\n",
            "had had\n",
            ", ,\n",
            "in in\n",
            "consequence consequ\n",
            "of of\n",
            "her her\n",
            "sister sist\n",
            "' '\n",
            "s s\n",
            "marriage marry\n",
            ", ,\n",
            "been been\n",
            "mistress mistress\n",
            "of of\n",
            "his his\n",
            "house hous\n",
            "from from\n",
            "a a\n",
            "very very\n",
            "early ear\n",
            "period period\n",
            ". .\n",
            "Her her\n"
          ]
        }
      ]
    },
    {
      "cell_type": "code",
      "source": [
        "for i in range(1, 100):\n",
        "  print(emmatokens[i], emma_porter_stem[i], emma_lancaster_stem[i])"
      ],
      "metadata": {
        "colab": {
          "base_uri": "https://localhost:8080/"
        },
        "id": "W90cl76gkOwU",
        "outputId": "d3834bd3-3604-4fc8-981f-78e26b87af07"
      },
      "execution_count": null,
      "outputs": [
        {
          "output_type": "stream",
          "name": "stdout",
          "text": [
            "Emma emma emm\n",
            "by by by\n",
            "Jane jane jan\n",
            "Austen austen aust\n",
            "1816 1816 1816\n",
            "] ] ]\n",
            "VOLUME volum volum\n",
            "I i i\n",
            "CHAPTER chapter chapt\n",
            "I i i\n",
            "Emma emma emm\n",
            "Woodhouse woodhous woodh\n",
            ", , ,\n",
            "handsome handsom handsom\n",
            ", , ,\n",
            "clever clever clev\n",
            ", , ,\n",
            "and and and\n",
            "rich rich rich\n",
            ", , ,\n",
            "with with with\n",
            "a a a\n",
            "comfortable comfort comfort\n",
            "home home hom\n",
            "and and and\n",
            "happy happi happy\n",
            "disposition disposit disposit\n",
            ", , ,\n",
            "seemed seem seem\n",
            "to to to\n",
            "unite unit unit\n",
            "some some som\n",
            "of of of\n",
            "the the the\n",
            "best best best\n",
            "blessings bless bless\n",
            "of of of\n",
            "existence exist ex\n",
            "; ; ;\n",
            "and and and\n",
            "had had had\n",
            "lived live liv\n",
            "nearly nearli near\n",
            "twenty twenti twenty\n",
            "- - -\n",
            "one one on\n",
            "years year year\n",
            "in in in\n",
            "the the the\n",
            "world world world\n",
            "with with with\n",
            "very veri very\n",
            "little littl littl\n",
            "to to to\n",
            "distress distress distress\n",
            "or or or\n",
            "vex vex vex\n",
            "her her her\n",
            ". . .\n",
            "She she she\n",
            "was wa was\n",
            "the the the\n",
            "youngest youngest youngest\n",
            "of of of\n",
            "the the the\n",
            "two two two\n",
            "daughters daughter daught\n",
            "of of of\n",
            "a a a\n",
            "most most most\n",
            "affectionate affection affect\n",
            ", , ,\n",
            "indulgent indulg indulg\n",
            "father father fath\n",
            "; ; ;\n",
            "and and and\n",
            "had had had\n",
            ", , ,\n",
            "in in in\n",
            "consequence consequ consequ\n",
            "of of of\n",
            "her her her\n",
            "sister sister sist\n",
            "' ' '\n",
            "s s s\n",
            "marriage marriag marry\n",
            ", , ,\n",
            "been been been\n",
            "mistress mistress mistress\n",
            "of of of\n",
            "his hi his\n",
            "house hous hous\n",
            "from from from\n",
            "a a a\n",
            "very veri very\n",
            "early earli ear\n",
            "period period period\n",
            ". . .\n",
            "Her her her\n"
          ]
        }
      ]
    },
    {
      "cell_type": "code",
      "source": [
        "def simplestem(word):\n",
        "  for suffix in ['ing', 'ly', 'ed', 'ious', 'ies', 'ive', 'es', 's', 'ment']:\n",
        "    if word.endswith(suffix):\n",
        "      return word[:-len(suffix)]\n"
      ],
      "metadata": {
        "id": "wp_79UqNkfLs"
      },
      "execution_count": null,
      "outputs": []
    },
    {
      "cell_type": "code",
      "source": [
        "stemword = simplestem('friends')"
      ],
      "metadata": {
        "id": "PQSDvkrQlmAx"
      },
      "execution_count": null,
      "outputs": []
    },
    {
      "cell_type": "code",
      "source": [
        "stemword"
      ],
      "metadata": {
        "colab": {
          "base_uri": "https://localhost:8080/",
          "height": 35
        },
        "id": "wAV6Q6RFlu9q",
        "outputId": "e62f1517-b3a1-4cdc-dc0f-abd529e4e453"
      },
      "execution_count": null,
      "outputs": [
        {
          "output_type": "execute_result",
          "data": {
            "text/plain": [
              "'friend'"
            ],
            "application/vnd.google.colaboratory.intrinsic+json": {
              "type": "string"
            }
          },
          "metadata": {},
          "execution_count": 64
        }
      ]
    },
    {
      "cell_type": "code",
      "source": [
        "nltk.download('omw-1.4')"
      ],
      "metadata": {
        "colab": {
          "base_uri": "https://localhost:8080/"
        },
        "id": "ij8koTrLl7tm",
        "outputId": "2cad65fe-6374-4bdd-d4a6-75e04e75ba64"
      },
      "execution_count": null,
      "outputs": [
        {
          "output_type": "stream",
          "name": "stderr",
          "text": [
            "[nltk_data] Downloading package omw-1.4 to /root/nltk_data...\n"
          ]
        },
        {
          "output_type": "execute_result",
          "data": {
            "text/plain": [
              "True"
            ]
          },
          "metadata": {},
          "execution_count": 65
        }
      ]
    },
    {
      "cell_type": "code",
      "source": [
        "wnl = nltk.WordNetLemmatizer()\n",
        "emmalemma = [wnl.lemmatize(t) for t in emmawords]\n",
        "emmalemma[1:100]"
      ],
      "metadata": {
        "colab": {
          "base_uri": "https://localhost:8080/"
        },
        "id": "re9qyVHNmCRx",
        "outputId": "53f584f8-55ca-44e9-b01b-9461ab410ff6"
      },
      "execution_count": null,
      "outputs": [
        {
          "output_type": "execute_result",
          "data": {
            "text/plain": [
              "['emma',\n",
              " 'by',\n",
              " 'jane',\n",
              " 'austen',\n",
              " '1816',\n",
              " ']',\n",
              " 'volume',\n",
              " 'i',\n",
              " 'chapter',\n",
              " 'i',\n",
              " 'emma',\n",
              " 'woodhouse',\n",
              " ',',\n",
              " 'handsome',\n",
              " ',',\n",
              " 'clever',\n",
              " ',',\n",
              " 'and',\n",
              " 'rich',\n",
              " ',',\n",
              " 'with',\n",
              " 'a',\n",
              " 'comfortable',\n",
              " 'home',\n",
              " 'and',\n",
              " 'happy',\n",
              " 'disposition',\n",
              " ',',\n",
              " 'seemed',\n",
              " 'to',\n",
              " 'unite',\n",
              " 'some',\n",
              " 'of',\n",
              " 'the',\n",
              " 'best',\n",
              " 'blessing',\n",
              " 'of',\n",
              " 'existence',\n",
              " ';',\n",
              " 'and',\n",
              " 'had',\n",
              " 'lived',\n",
              " 'nearly',\n",
              " 'twenty',\n",
              " '-',\n",
              " 'one',\n",
              " 'year',\n",
              " 'in',\n",
              " 'the',\n",
              " 'world',\n",
              " 'with',\n",
              " 'very',\n",
              " 'little',\n",
              " 'to',\n",
              " 'distress',\n",
              " 'or',\n",
              " 'vex',\n",
              " 'her',\n",
              " '.',\n",
              " 'she',\n",
              " 'wa',\n",
              " 'the',\n",
              " 'youngest',\n",
              " 'of',\n",
              " 'the',\n",
              " 'two',\n",
              " 'daughter',\n",
              " 'of',\n",
              " 'a',\n",
              " 'most',\n",
              " 'affectionate',\n",
              " ',',\n",
              " 'indulgent',\n",
              " 'father',\n",
              " ';',\n",
              " 'and',\n",
              " 'had',\n",
              " ',',\n",
              " 'in',\n",
              " 'consequence',\n",
              " 'of',\n",
              " 'her',\n",
              " 'sister',\n",
              " \"'\",\n",
              " 's',\n",
              " 'marriage',\n",
              " ',',\n",
              " 'been',\n",
              " 'mistress',\n",
              " 'of',\n",
              " 'his',\n",
              " 'house',\n",
              " 'from',\n",
              " 'a',\n",
              " 'very',\n",
              " 'early',\n",
              " 'period',\n",
              " '.',\n",
              " 'her']"
            ]
          },
          "metadata": {},
          "execution_count": 66
        }
      ]
    },
    {
      "cell_type": "markdown",
      "source": [
        "# Regular Expressions for Tokenizing Text"
      ],
      "metadata": {
        "id": "xqUemAcrnA9B"
      }
    },
    {
      "cell_type": "code",
      "source": [
        "type(emmatext)"
      ],
      "metadata": {
        "colab": {
          "base_uri": "https://localhost:8080/"
        },
        "id": "2IlCKl-am1RB",
        "outputId": "abd45d33-0d24-4151-afd4-607cf46e3517"
      },
      "execution_count": null,
      "outputs": [
        {
          "output_type": "execute_result",
          "data": {
            "text/plain": [
              "str"
            ]
          },
          "metadata": {},
          "execution_count": 67
        }
      ]
    },
    {
      "cell_type": "code",
      "source": [
        "len(emmatext)"
      ],
      "metadata": {
        "colab": {
          "base_uri": "https://localhost:8080/"
        },
        "id": "d6iQt6XwnS9Y",
        "outputId": "d9c5dd08-7c09-4a4b-8ab2-2d7763d7b017"
      },
      "execution_count": null,
      "outputs": [
        {
          "output_type": "execute_result",
          "data": {
            "text/plain": [
              "887071"
            ]
          },
          "metadata": {},
          "execution_count": 68
        }
      ]
    },
    {
      "cell_type": "code",
      "source": [
        "shorttext = emmatext[:150]"
      ],
      "metadata": {
        "id": "4Q4bsuZdnUUG"
      },
      "execution_count": null,
      "outputs": []
    },
    {
      "cell_type": "code",
      "source": [
        "for char in shorttext[:10]:\n",
        "  print (char)"
      ],
      "metadata": {
        "colab": {
          "base_uri": "https://localhost:8080/"
        },
        "id": "Ma96tp6ynX1y",
        "outputId": "ea4b4887-5991-4d07-b998-e14535286612"
      },
      "execution_count": null,
      "outputs": [
        {
          "output_type": "stream",
          "name": "stdout",
          "text": [
            "[\n",
            "E\n",
            "m\n",
            "m\n",
            "a\n",
            " \n",
            "b\n",
            "y\n",
            " \n",
            "J\n"
          ]
        }
      ]
    },
    {
      "cell_type": "code",
      "source": [
        "string1 = \"Montly Python\"\n",
        "string2 = \"Holy Grail\"\n",
        "string1 + 'and the' + string2"
      ],
      "metadata": {
        "colab": {
          "base_uri": "https://localhost:8080/",
          "height": 35
        },
        "id": "ALFOOkqzniaQ",
        "outputId": "c2ca7f01-c795-4eb7-a59b-73454ca253cb"
      },
      "execution_count": null,
      "outputs": [
        {
          "output_type": "execute_result",
          "data": {
            "text/plain": [
              "'Montly Pythonand theHoly Grail'"
            ],
            "application/vnd.google.colaboratory.intrinsic+json": {
              "type": "string"
            }
          },
          "metadata": {},
          "execution_count": 74
        }
      ]
    },
    {
      "cell_type": "code",
      "source": [
        "newemmatext = emmatext.replace('\\n', ' ') #개행문자를 모두 그냥 띄어쓰기로 바꿈.\n",
        "shorttext = newemmatext[:150]\n",
        "shorttext"
      ],
      "metadata": {
        "colab": {
          "base_uri": "https://localhost:8080/",
          "height": 35
        },
        "id": "zbmBsxMTnsVn",
        "outputId": "07bdd2f2-ebe7-496c-9a62-69c43f5525d9"
      },
      "execution_count": null,
      "outputs": [
        {
          "output_type": "execute_result",
          "data": {
            "text/plain": [
              "'[Emma by Jane Austen 1816]  VOLUME I  CHAPTER I   Emma Woodhouse, handsome, clever, and rich, with a comfortable home and happy disposition, seemed to'"
            ],
            "application/vnd.google.colaboratory.intrinsic+json": {
              "type": "string"
            }
          },
          "metadata": {},
          "execution_count": 85
        }
      ]
    },
    {
      "cell_type": "markdown",
      "source": [
        "# 정규표현식 -- 모듈 're'사용하기"
      ],
      "metadata": {
        "id": "wZpsSVkconMu"
      }
    },
    {
      "cell_type": "code",
      "source": [
        "import re #regular expression?\n",
        "pword = re.compile('\\w+')\n",
        "re.findall(pword, shorttext)"
      ],
      "metadata": {
        "colab": {
          "base_uri": "https://localhost:8080/"
        },
        "id": "Y_s37NVnoDuH",
        "outputId": "c0da50af-ea35-429d-862b-3376b3ac0830"
      },
      "execution_count": null,
      "outputs": [
        {
          "output_type": "execute_result",
          "data": {
            "text/plain": [
              "['Emma',\n",
              " 'by',\n",
              " 'Jane',\n",
              " 'Austen',\n",
              " '1816',\n",
              " 'VOLUME',\n",
              " 'I',\n",
              " 'CHAPTER',\n",
              " 'I',\n",
              " 'Emma',\n",
              " 'Woodhouse',\n",
              " 'handsome',\n",
              " 'clever',\n",
              " 'and',\n",
              " 'rich',\n",
              " 'with',\n",
              " 'a',\n",
              " 'comfortable',\n",
              " 'home',\n",
              " 'and',\n",
              " 'happy',\n",
              " 'disposition',\n",
              " 'seemed',\n",
              " 'to']"
            ]
          },
          "metadata": {},
          "execution_count": 86
        }
      ]
    },
    {
      "cell_type": "code",
      "source": [
        "specialtext = 'That U.S.A. poster-print costs $12.40, but with 10% off.'\n",
        "re.findall(pword, specialtext) # %안 나오고, . 안나오고, - 안 나옴."
      ],
      "metadata": {
        "colab": {
          "base_uri": "https://localhost:8080/"
        },
        "id": "-fLHHYe8o2LJ",
        "outputId": "08c6df04-0d6f-4e46-9bee-8920a9efd792"
      },
      "execution_count": null,
      "outputs": [
        {
          "output_type": "execute_result",
          "data": {
            "text/plain": [
              "['That',\n",
              " 'U',\n",
              " 'S',\n",
              " 'A',\n",
              " 'poster',\n",
              " 'print',\n",
              " 'costs',\n",
              " '12',\n",
              " '40',\n",
              " 'but',\n",
              " 'with',\n",
              " '10',\n",
              " 'off']"
            ]
          },
          "metadata": {},
          "execution_count": 77
        }
      ]
    },
    {
      "cell_type": "code",
      "source": [
        "ptoken = re.compile('(\\w+(-\\w+)*)')\n",
        "re.findall(ptoken, specialtext)"
      ],
      "metadata": {
        "colab": {
          "base_uri": "https://localhost:8080/"
        },
        "id": "A86H1aWbpcOI",
        "outputId": "33e325f2-11ae-4206-9d05-e897289da685"
      },
      "execution_count": null,
      "outputs": [
        {
          "output_type": "execute_result",
          "data": {
            "text/plain": [
              "[('That', ''),\n",
              " ('U', ''),\n",
              " ('S', ''),\n",
              " ('A', ''),\n",
              " ('poster-print', '-print'),\n",
              " ('costs', ''),\n",
              " ('12', ''),\n",
              " ('40', ''),\n",
              " ('but', ''),\n",
              " ('with', ''),\n",
              " ('10', ''),\n",
              " ('off', '')]"
            ]
          },
          "metadata": {},
          "execution_count": 87
        }
      ]
    },
    {
      "cell_type": "markdown",
      "source": [
        "\\w+는 하나 이상의 알파벳 문자를 나타냅니다.\n",
        "(?:-\\w+)*는 하이픈과 이어지는 하나 이상의 알파벳 문자를 나타내며, 이 부분이 0번 이상 반복될 수 있습니다."
      ],
      "metadata": {
        "id": "dMFRrrsk_xWt"
      }
    },
    {
      "cell_type": "code",
      "source": [
        "re.findall(ptoken, 'end-of-line character')"
      ],
      "metadata": {
        "colab": {
          "base_uri": "https://localhost:8080/"
        },
        "id": "3g5dxAX5_vl3",
        "outputId": "3cd40a96-5857-471f-f8a1-6763615940c9"
      },
      "execution_count": null,
      "outputs": [
        {
          "output_type": "execute_result",
          "data": {
            "text/plain": [
              "[('end-of-line', '-line'), ('character', '')]"
            ]
          },
          "metadata": {},
          "execution_count": 88
        }
      ]
    },
    {
      "cell_type": "code",
      "source": [
        "#parantheses 뜻 == 괄호.\n",
        "pabbrev = re.compile('((?: [A-Z]\\.)+)') #이렇게 물음표: 뒤에 쓴 건 그룹화는 되지만 검색이 안 됨.\n",
        "re.findall(pabbrev, specialtext)"
      ],
      "metadata": {
        "colab": {
          "base_uri": "https://localhost:8080/"
        },
        "id": "lcwzi6-L_3yU",
        "outputId": "cd6ccb01-81eb-417e-91f3-5bc45d400c62"
      },
      "execution_count": null,
      "outputs": [
        {
          "output_type": "execute_result",
          "data": {
            "text/plain": [
              "[' U.']"
            ]
          },
          "metadata": {},
          "execution_count": 89
        }
      ]
    },
    {
      "cell_type": "code",
      "source": [
        "pabbrev = re.compile('(([A-Z]\\.)+)')\n",
        "re.findall(pabbrev, specialtext)"
      ],
      "metadata": {
        "colab": {
          "base_uri": "https://localhost:8080/"
        },
        "id": "lyRs89JBEeKT",
        "outputId": "1a1acb6c-599f-49fc-9a9c-33c33c88ccca"
      },
      "execution_count": null,
      "outputs": [
        {
          "output_type": "execute_result",
          "data": {
            "text/plain": [
              "[('U.S.A.', 'A.')]"
            ]
          },
          "metadata": {},
          "execution_count": 90
        }
      ]
    },
    {
      "cell_type": "code",
      "source": [
        "pabbrev = re.compile('([A-Z]\\.)+')\n",
        "re.findall(pabbrev, specialtext)"
      ],
      "metadata": {
        "colab": {
          "base_uri": "https://localhost:8080/"
        },
        "id": "hvmTc0G1EvTM",
        "outputId": "909d94fd-03e9-45ce-a76a-a6ce80413685"
      },
      "execution_count": null,
      "outputs": [
        {
          "output_type": "execute_result",
          "data": {
            "text/plain": [
              "['A.']"
            ]
          },
          "metadata": {},
          "execution_count": 83
        }
      ]
    },
    {
      "cell_type": "code",
      "source": [
        "ptoken = re.compile('(\\w+(-\\w+)*|([A-Z]\\.)+)')\n",
        "re.findall(ptoken, specialtext)"
      ],
      "metadata": {
        "colab": {
          "base_uri": "https://localhost:8080/"
        },
        "id": "54WzFIs3FJGn",
        "outputId": "f60cb402-abde-48d7-f3ca-b90b0af32558"
      },
      "execution_count": null,
      "outputs": [
        {
          "output_type": "execute_result",
          "data": {
            "text/plain": [
              "[('That', '', ''),\n",
              " ('U', '', ''),\n",
              " ('S', '', ''),\n",
              " ('A', '', ''),\n",
              " ('poster-print', '-print', ''),\n",
              " ('costs', '', ''),\n",
              " ('12', '', ''),\n",
              " ('40', '', ''),\n",
              " ('but', '', ''),\n",
              " ('with', '', ''),\n",
              " ('10', '', ''),\n",
              " ('off', '', '')]"
            ]
          },
          "metadata": {},
          "execution_count": 94
        }
      ]
    },
    {
      "cell_type": "markdown",
      "source": [
        "각 튜플은 정규 표현식 패턴에서 일치하는 부분에 대한 정보를 포함합니다. 각 튜플은 세 개의 요소로 구성됩니다:\n",
        "\n",
        "첫 번째 요소는 첫 번째 그룹에 해당하는 부분입니다. 이는 내부 하이픈을 포함한 단어 또는 대문자와 점으로 이루어진 약어에 대한 정보입니다.\n",
        "두 번째 요소는 두 번째 그룹에 해당하는 부분입니다. 이는 내부 하이픈을 포함한 단어의 경우 하이픈 뒤에 오는 부분을 나타내며, 대문자와 점으로 이루어진 약어의 경우 빈 문자열입니다.\n",
        "세 번째 요소는 세 번째 그룹에 해당하는 부분입니다. 이는 대문자와 점으로 이루어진 약어의 경우 빈 문자열입니다.\n",
        "결과를 해석하면 다음과 같습니다:\n",
        "\n",
        "\"That\"은 내부 하이픈이 없는 단어이므로 첫 번째 그룹에 일치합니다. 두 번째와 세 번째 그룹은 빈 문자열입니다.\n",
        "\"U\", \"S\", \"A\"는 각각 대문자와 점으로 이루어진 약어이므로 첫 번째 그룹에 일치합니다. 두 번째와 세 번째 그룹은 빈 문자열입니다.\n",
        "\"poster-print\"는 내부 하이픈을 포함한 단어이므로 첫 번째 그룹에 일치합니다. 하이픈 뒤의 부분(\"-print\")은 두 번째 그룹에 일치합니다.\n",
        "\"costs\", \"12\", \"40\", \"but\", \"with\", \"10\", \"off\"는 내부 하이픈이 없는 단어이므로 첫 번째 그룹에 일치합니다. 두 번째와 세 번째 그룹은 빈 문자열입니다.\n",
        "이 결과를 통해 정규 표현식이 올바르게 작동하고 텍스트에서 원하는 패턴을 찾았음을 확인할 수 있습니다.\n",
        "\n",
        "\n",
        "\n",
        "\n",
        "\n"
      ],
      "metadata": {
        "id": "ntERwDeFHNLE"
      }
    },
    {
      "cell_type": "code",
      "source": [],
      "metadata": {
        "id": "YWBLS-vuF6i8"
      },
      "execution_count": null,
      "outputs": []
    },
    {
      "cell_type": "markdown",
      "source": [
        "pattern = r'''(?x)           # set flag to allow verbose regexps\n",
        "        (?:[A-Z]\\.)+         # abbreviations, e.g. U.S.A.\n",
        "        | \\w+(?:-\\w+)*       # words with optional internal hyphens\n",
        "        | \\$?\\d+(?:\\.\\d+)?%? # currency and percentages, e.g. $12.40, 82%\n",
        "        | \\.\\.\\.             # ellipsis\n",
        "        | [][.,;\"'?():-_`]   # these are separate tokens; includes ], [\n",
        "        '''"
      ],
      "metadata": {
        "id": "S16zEejIKQj6"
      }
    },
    {
      "cell_type": "code",
      "source": [
        "pattern = r'''(?x)           # set flag to allow verbose regexps\n",
        "        (?:[A-Z]\\.)+         # abbreviations, e.g. U.S.A.\n",
        "        | \\w+(?:-\\w+)*       # words with optional internal hyphens\n",
        "        | \\$?\\d+(?:\\.\\d+)?%? # currency and percentages, e.g. $12.40, 82%\n",
        "        | \\.\\.\\.             # ellipsis\n",
        "        | [][.,;\"'?():-_`]   # these are separate tokens; includes ], [\n",
        "        '''\n",
        "\n",
        "\n",
        "tweetPattern = r'''(?x)              # set flag to allow verbose regexps\n",
        "                (?:[A-Z]\\.)+         # abbreviations, e.g. U.S.A.\n",
        "                | https?://|www\\S+   # simple URLs\n",
        "                | \\#\\w+              # hashtags\n",
        "                | @\\w+               # mentions\n",
        "                | :-\\)|;-\\)          # small list of emoticons\n",
        "                | \\d+:\\d+            # timelike pattern\n",
        "                | \\w+(?:-\\w+)*       # words with optional internal hyphens\n",
        "                | \\$?\\d+(?:\\.\\d+)?%? # currency and percentages, e.g. $12.40, 82%\n",
        "                | \\.\\.\\.             # ellipsis\n",
        "                | [][.,;\"'?():-_`]   # these are separate tokens; includes ], [\n",
        "                '''\n",
        "\n",
        "tweet1 = \"@natalieohayre I agree #hc09 needs reform- but not by crooked politicians who r clueless about healthcare! #tcot #fishy NO GOV'T TAKEOVER!\"\n",
        "nltk.regexp_tokenize(tweet1, tweetPattern)"
      ],
      "metadata": {
        "colab": {
          "base_uri": "https://localhost:8080/"
        },
        "id": "BAcfRWmLKS3p",
        "outputId": "21f9368d-3b2f-4670-8595-869e6b7752f7"
      },
      "execution_count": null,
      "outputs": [
        {
          "output_type": "execute_result",
          "data": {
            "text/plain": [
              "['@natalieohayre',\n",
              " 'I',\n",
              " 'agree',\n",
              " '#hc09',\n",
              " 'needs',\n",
              " 'reform',\n",
              " 'but',\n",
              " 'not',\n",
              " 'by',\n",
              " 'crooked',\n",
              " 'politicians',\n",
              " 'who',\n",
              " 'r',\n",
              " 'clueless',\n",
              " 'about',\n",
              " 'healthcare',\n",
              " '#tcot',\n",
              " '#fishy',\n",
              " 'NO',\n",
              " 'GOV',\n",
              " \"'\",\n",
              " 'T',\n",
              " 'TAKEOVER']"
            ]
          },
          "metadata": {},
          "execution_count": 97
        }
      ]
    },
    {
      "cell_type": "code",
      "source": [
        "tweet2 = \"To Sen. Roland Burris: Affordable, quality health insurance can't wait http://bit.ly/j63je #hc09 #IL #60660\"\n",
        "nltk.regexp_tokenize(tweet2, tweetPattern)"
      ],
      "metadata": {
        "colab": {
          "base_uri": "https://localhost:8080/"
        },
        "id": "nWkzjjHMKxze",
        "outputId": "f5ca3949-662a-4b34-889c-e7a90c373fc8"
      },
      "execution_count": null,
      "outputs": [
        {
          "output_type": "execute_result",
          "data": {
            "text/plain": [
              "['To',\n",
              " 'Sen',\n",
              " '.',\n",
              " 'Roland',\n",
              " 'Burris',\n",
              " ':',\n",
              " 'Affordable',\n",
              " ',',\n",
              " 'quality',\n",
              " 'health',\n",
              " 'insurance',\n",
              " 'can',\n",
              " \"'\",\n",
              " 't',\n",
              " 'wait',\n",
              " 'http://',\n",
              " 'bit',\n",
              " '.',\n",
              " 'ly',\n",
              " 'j63je',\n",
              " '#hc09',\n",
              " '#IL',\n",
              " '#60660']"
            ]
          },
          "metadata": {},
          "execution_count": 98
        }
      ]
    },
    {
      "cell_type": "code",
      "source": [
        "tweet3 = \"RT @karoli: RT @Seriou: .@whitehouse I will stand w/ Obama on #healthcare, I trust him. #p2 #tlot\"\n",
        "nltk.regexp_tokenize(tweet3, tweetPattern)"
      ],
      "metadata": {
        "colab": {
          "base_uri": "https://localhost:8080/"
        },
        "id": "1gj3Af1yLW-j",
        "outputId": "e6e3a023-2ddf-4855-d87c-59a1a505906a"
      },
      "execution_count": null,
      "outputs": [
        {
          "output_type": "execute_result",
          "data": {
            "text/plain": [
              "['RT',\n",
              " '@karoli',\n",
              " ':',\n",
              " 'RT',\n",
              " '@Seriou',\n",
              " ':',\n",
              " '.',\n",
              " '@whitehouse',\n",
              " 'I',\n",
              " 'will',\n",
              " 'stand',\n",
              " 'w',\n",
              " 'Obama',\n",
              " 'on',\n",
              " '#healthcare',\n",
              " ',',\n",
              " 'I',\n",
              " 'trust',\n",
              " 'him',\n",
              " '.',\n",
              " '#p2',\n",
              " '#tlot']"
            ]
          },
          "metadata": {},
          "execution_count": 99
        }
      ]
    }
  ]
}